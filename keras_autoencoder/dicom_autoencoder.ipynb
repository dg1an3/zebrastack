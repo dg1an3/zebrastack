{
 "cells": [
  {
   "cell_type": "code",
   "execution_count": 1,
   "metadata": {},
   "outputs": [
    {
     "name": "stderr",
     "output_type": "stream",
     "text": [
      "Using TensorFlow backend.\n"
     ]
    }
   ],
   "source": [
    "import random\n",
    "import numpy as np\n",
    "from read_imageset import read_imageset_arrays\n",
    "from build_autoencoder import build_autoencoder\n",
    "from show_original_decoded import show_original_decoded"
   ]
  },
  {
   "cell_type": "code",
   "execution_count": 2,
   "metadata": {},
   "outputs": [
    {
     "name": "stdout",
     "output_type": "stream",
     "text": [
      "loading dataset:  .\\data\\LIDC-IDRI\\128x128\\LIDC-IDRI-0005_20000101.npy\n",
      "loading dataset:  .\\data\\LIDC-IDRI\\128x128\\LIDC-IDRI-0009_20000101.npy\n",
      "loading dataset:  .\\data\\LIDC-IDRI\\128x128\\LIDC-IDRI-0021_20000101.npy\n",
      "loading dataset:  .\\data\\LIDC-IDRI\\128x128\\LIDC-IDRI-0034_20000101.npy\n",
      "loading dataset:  .\\data\\LIDC-IDRI\\128x128\\LIDC-IDRI-0039_20000101.npy\n",
      "loading dataset: .\\data\\LIDC-IDRI\\128x128\\LIDC-IDRI-0055_20000101.npy\n",
      "loading dataset:  .\\data\\LIDC-IDRI\\128x128\\LIDC-IDRI-0058_20000101.npy\n",
      "loading dataset:  .\\data\\LIDC-IDRI\\128x128\\LIDC-IDRI-0059_20000101.npy\n",
      "loading dataset:  .\\data\\LIDC-IDRI\\128x128\\LIDC-IDRI-0069_20000101.npy\n",
      "loading dataset:  .\\data\\LIDC-IDRI\\128x128\\LIDC-IDRI-0070_20000101.npy\n",
      "loading dataset:  .\\data\\LIDC-IDRI\\128x128\\LIDC-IDRI-0074_20000101.npy\n",
      "loading dataset:  .\\data\\LIDC-IDRI\\128x128\\LIDC-IDRI-0077_20000101.npy\n",
      "loading dataset:  .\\data\\LIDC-IDRI\\128x128\\LIDC-IDRI-0092_20000101.npy\n",
      "loading dataset:  .\\data\\LIDC-IDRI\\128x128\\LIDC-IDRI-0093_20000101.npy\n",
      "loading dataset:  .\\data\\LIDC-IDRI\\128x128\\LIDC-IDRI-0095_20000101.npy\n",
      "loading dataset:  .\\data\\LIDC-IDRI\\128x128\\LIDC-IDRI-0100_20000101.npy\n",
      "loading dataset:  .\\data\\LIDC-IDRI\\128x128\\LIDC-IDRI-0101_20000101.npy\n",
      "loading dataset:  .\\data\\LIDC-IDRI\\128x128\\LIDC-IDRI-0103_20000101.npy\n",
      "loading dataset:  .\\data\\LIDC-IDRI\\128x128\\LIDC-IDRI-0106_20000101.npy\n",
      "loading dataset:  .\\data\\LIDC-IDRI\\128x128\\LIDC-IDRI-0144_20000101.npy\n",
      "loading dataset:  .\\data\\LIDC-IDRI\\128x128\\LIDC-IDRI-0148_20000101.npy\n",
      "loading dataset:  .\\data\\LIDC-IDRI\\128x128\\LIDC-IDRI-0151_20000101.npy\n",
      "loading dataset:  .\\data\\LIDC-IDRI\\128x128\\LIDC-IDRI-0160_20000101.npy\n",
      "loading dataset:  .\\data\\LIDC-IDRI\\128x128\\LIDC-IDRI-0166_20000101.npy\n",
      "loading dataset:  .\\data\\LIDC-IDRI\\128x128\\LIDC-IDRI-0195_20000101.npy\n",
      "loading dataset:  .\\data\\LIDC-IDRI\\128x128\\LIDC-IDRI-0203_20000101.npy\n",
      "loading dataset:  .\\data\\LIDC-IDRI\\128x128\\LIDC-IDRI-0204_20000101.npy\n",
      "loading dataset:  .\\data\\LIDC-IDRI\\128x128\\LIDC-IDRI-0207_20000101.npy\n",
      "loading dataset:  .\\data\\LIDC-IDRI\\128x128\\LIDC-IDRI-0222_20000101.npy\n",
      "loading dataset:  .\\data\\LIDC-IDRI\\128x128\\LIDC-IDRI-0259_20000101.npy\n",
      "loading dataset:  .\\data\\LIDC-IDRI\\128x128\\LIDC-IDRI-0275_20000101.npy\n",
      "loading dataset:  .\\data\\LIDC-IDRI\\128x128\\LIDC-IDRI-0277_20000101.npy\n",
      "loading dataset:  .\\data\\LIDC-IDRI\\128x128\\LIDC-IDRI-0280_20000101.npy\n",
      "loading dataset:  .\\data\\LIDC-IDRI\\128x128\\LIDC-IDRI-0282_20000101.npy\n",
      "loading dataset:  .\\data\\LIDC-IDRI\\128x128\\LIDC-IDRI-0283_20000101.npy\n",
      "loading dataset:  .\\data\\LIDC-IDRI\\128x128\\LIDC-IDRI-0284_20000101.npy\n",
      "loading dataset:  .\\data\\LIDC-IDRI\\128x128\\LIDC-IDRI-0304_20000101.npy\n",
      "loading dataset:  .\\data\\LIDC-IDRI\\128x128\\LIDC-IDRI-0324_20000101.npy\n",
      "loading dataset:  .\\data\\LIDC-IDRI\\128x128\\LIDC-IDRI-0371_20000101.npy\n",
      "loading dataset:  .\\data\\LIDC-IDRI\\128x128\\LIDC-IDRI-0380_20000101.npy\n",
      "loading dataset:  .\\data\\LIDC-IDRI\\128x128\\LIDC-IDRI-0382_20000101.npy\n",
      "loading dataset:  .\\data\\LIDC-IDRI\\128x128\\LIDC-IDRI-0387_20000101.npy\n",
      "loading dataset:  .\\data\\LIDC-IDRI\\128x128\\LIDC-IDRI-0388_20000101.npy\n",
      "loading dataset:  .\\data\\LIDC-IDRI\\128x128\\LIDC-IDRI-0393_20000101.npy\n",
      "loading dataset:  .\\data\\LIDC-IDRI\\128x128\\LIDC-IDRI-0395_20000101.npy\n",
      "loading dataset:  .\\data\\LIDC-IDRI\\128x128\\LIDC-IDRI-0401_20000101.npy\n",
      "loading dataset:  .\\data\\LIDC-IDRI\\128x128\\LIDC-IDRI-0404_20000101.npy\n",
      "loading dataset:  .\\data\\LIDC-IDRI\\128x128\\LIDC-IDRI-0412_20000101.npy\n",
      "loading dataset:  .\\data\\LIDC-IDRI\\128x128\\LIDC-IDRI-0413_20000101.npy\n",
      "loading dataset:  .\\data\\LIDC-IDRI\\128x128\\LIDC-IDRI-0423_20000101.npy\n",
      "loading dataset:  .\\data\\LIDC-IDRI\\128x128\\LIDC-IDRI-0430_20000101.npy\n",
      "loading dataset:  .\\data\\LIDC-IDRI\\128x128\\LIDC-IDRI-0439_20000101.npy\n",
      "loading dataset:  .\\data\\LIDC-IDRI\\128x128\\LIDC-IDRI-0442_20000101.npy\n",
      "loading dataset:  .\\data\\LIDC-IDRI\\128x128\\LIDC-IDRI-0460_20000101.npy\n",
      "loading dataset:  .\\data\\LIDC-IDRI\\128x128\\LIDC-IDRI-0472_20000101.npy\n",
      "loading dataset:  .\\data\\LIDC-IDRI\\128x128\\LIDC-IDRI-0473_20000101.npy\n",
      "loading dataset:  .\\data\\LIDC-IDRI\\128x128\\LIDC-IDRI-0476_20000101.npy\n",
      "loading dataset:  .\\data\\LIDC-IDRI\\128x128\\LIDC-IDRI-0485_20000101.npy\n",
      "loading dataset:  .\\data\\LIDC-IDRI\\128x128\\LIDC-IDRI-0515_20000101.npy\n",
      "loading dataset:  .\\data\\LIDC-IDRI\\128x128\\LIDC-IDRI-0519_20000101.npy\n",
      "loading dataset:  .\\data\\LIDC-IDRI\\128x128\\LIDC-IDRI-0521_20000101.npy\n",
      "loading dataset:  .\\data\\LIDC-IDRI\\128x128\\LIDC-IDRI-0526_20000101.npy\n",
      "loading dataset:  .\\data\\LIDC-IDRI\\128x128\\LIDC-IDRI-0530_20000101.npy\n",
      "loading dataset: .\\data\\LIDC-IDRI\\128x128\\LIDC-IDRI-0548_20000101.npy\n",
      "loading dataset:  .\\data\\LIDC-IDRI\\128x128\\LIDC-IDRI-0556_20000101.npy\n",
      "loading dataset:  .\\data\\LIDC-IDRI\\128x128\\LIDC-IDRI-0557_20000101.npy\n",
      "loading dataset:  .\\data\\LIDC-IDRI\\128x128\\LIDC-IDRI-0561_20000101.npy\n",
      "loading dataset:  .\\data\\LIDC-IDRI\\128x128\\LIDC-IDRI-0573_20000101.npy\n",
      "loading dataset:  .\\data\\LIDC-IDRI\\128x128\\LIDC-IDRI-0574_20000101.npy\n",
      "loading dataset:  .\\data\\LIDC-IDRI\\128x128\\LIDC-IDRI-0581_20000101.npy\n",
      "loading dataset:  .\\data\\LIDC-IDRI\\128x128\\LIDC-IDRI-0594_20000101.npy\n",
      "loading dataset:  .\\data\\LIDC-IDRI\\128x128\\LIDC-IDRI-0605_20000101.npy\n",
      "loading dataset:  .\\data\\LIDC-IDRI\\128x128\\LIDC-IDRI-0615_20000101.npy\n",
      "loading dataset:  .\\data\\LIDC-IDRI\\128x128\\LIDC-IDRI-0616_20000101.npy\n",
      "loading dataset:  .\\data\\LIDC-IDRI\\128x128\\LIDC-IDRI-0656_20000101.npy\n",
      "loading dataset:  .\\data\\LIDC-IDRI\\128x128\\LIDC-IDRI-0670_20000101.npy\n",
      "loading dataset:  .\\data\\LIDC-IDRI\\128x128\\LIDC-IDRI-0683_20000101.npy\n",
      "loading dataset:  .\\data\\LIDC-IDRI\\128x128\\LIDC-IDRI-0697_20000101.npy\n",
      "loading dataset:  .\\data\\LIDC-IDRI\\128x128\\LIDC-IDRI-0699_20000101.npy\n",
      "loading dataset:  .\\data\\LIDC-IDRI\\128x128\\LIDC-IDRI-0700_20000101.npy\n",
      "loading dataset:  .\\data\\LIDC-IDRI\\128x128\\LIDC-IDRI-0709_20000101.npy\n",
      "loading dataset:  .\\data\\LIDC-IDRI\\128x128\\LIDC-IDRI-0711_20000101.npy\n",
      "loading dataset:  .\\data\\LIDC-IDRI\\128x128\\LIDC-IDRI-0720_20000101.npy\n",
      "loading dataset:  .\\data\\LIDC-IDRI\\128x128\\LIDC-IDRI-0730_20000101.npy\n",
      "loading dataset:  .\\data\\LIDC-IDRI\\128x128\\LIDC-IDRI-0731_20000101.npy\n",
      "loading dataset:  .\\data\\LIDC-IDRI\\128x128\\LIDC-IDRI-0752_20000101.npy\n",
      "loading dataset:  .\\data\\LIDC-IDRI\\128x128\\LIDC-IDRI-0775_20000101.npy\n",
      "loading dataset:  .\\data\\LIDC-IDRI\\128x128\\LIDC-IDRI-0781_20000101.npy\n",
      "loading dataset:  .\\data\\LIDC-IDRI\\128x128\\LIDC-IDRI-0816_20000101.npy\n",
      "loading dataset:  .\\data\\LIDC-IDRI\\128x128\\LIDC-IDRI-0822_20000101.npy\n",
      "loading dataset:  .\\data\\LIDC-IDRI\\128x128\\LIDC-IDRI-0856_20000101.npy\n",
      "loading dataset:  .\\data\\LIDC-IDRI\\128x128\\LIDC-IDRI-0858_20000101.npy\n",
      "loading dataset:  .\\data\\LIDC-IDRI\\128x128\\LIDC-IDRI-0870_20000101.npy\n",
      "loading dataset:  .\\data\\LIDC-IDRI\\128x128\\LIDC-IDRI-0875_20000101.npy\n",
      "loading dataset:  .\\data\\LIDC-IDRI\\128x128\\LIDC-IDRI-0881_20000101.npy\n",
      "loading dataset:  .\\data\\LIDC-IDRI\\128x128\\LIDC-IDRI-0885_20000101.npy\n",
      "loading dataset:  .\\data\\LIDC-IDRI\\128x128\\LIDC-IDRI-0891_20000101.npy\n",
      "loading dataset:  .\\data\\LIDC-IDRI\\128x128\\LIDC-IDRI-0911_20000101.npy\n",
      "loading dataset:  .\\data\\LIDC-IDRI\\128x128\\LIDC-IDRI-0912_20000101.npy\n",
      "loading dataset:  .\\data\\LIDC-IDRI\\128x128\\LIDC-IDRI-0977_20000101.npy\n",
      "loading dataset:  .\\data\\LIDC-IDRI\\128x128\\LIDC-IDRI-0993_20000101.npy\n"
     ]
    }
   ],
   "source": [
    "sz = 128\n",
    "dataset_name = 'LIDC-IDRI'\n",
    "x_train = read_imageset_arrays(dataset_name, sz, 0.1)"
   ]
  },
  {
   "cell_type": "code",
   "execution_count": null,
   "metadata": {},
   "outputs": [],
   "source": [
    "x_test = np.array(random.sample(list(x_train), int(len(x_train)/10)))"
   ]
  },
  {
   "cell_type": "code",
   "execution_count": null,
   "metadata": {},
   "outputs": [],
   "source": [
    "autoencoder, encode_only, decode_only = build_autoencoder(sz, 'adadelta', 'binary_crossentropy')"
   ]
  },
  {
   "cell_type": "code",
   "execution_count": null,
   "metadata": {
    "scrolled": true
   },
   "outputs": [],
   "source": [
    "autoencoder.fit(x_train, x_train, \n",
    "                epochs=250, batch_size=256, \n",
    "                shuffle=True, validation_data=(x_test,x_test))"
   ]
  },
  {
   "cell_type": "code",
   "execution_count": null,
   "metadata": {},
   "outputs": [],
   "source": [
    "# save the model(s)\n",
    "autoencoder.save('models/autoencoder.h5')\n",
    "encode_only.save('models/encode_only.h5')\n",
    "decode_only.save('models/decode_only.h5')"
   ]
  },
  {
   "cell_type": "code",
   "execution_count": null,
   "metadata": {},
   "outputs": [],
   "source": [
    "encode_only_imgs = encode_only.predict(x_test)\n",
    "for n in range(10):\n",
    "    print(\"shape of encoded = \", encode_only_imgs[2].shape)\n",
    "    hist, bins = np.histogram(encode_only_imgs[2])\n",
    "    print(hist)\n",
    "    print(bins)"
   ]
  },
  {
   "cell_type": "code",
   "execution_count": null,
   "metadata": {},
   "outputs": [],
   "source": [
    "# add random values to decoded\n",
    "for n in range(8):\n",
    "    perturb_vectors = np.zeros(encode_only_imgs[2].shape)\n",
    "    perturb_element = -120.0 # * np.random.standard_normal()\n",
    "    perturb_vectors[:,n] = perturb_element\n",
    "    encode_only_imgs_z = np.add(encode_only_imgs[2], perturb_vectors)\n",
    "\n",
    "    decoded_imgs = decode_only.predict(encode_only_imgs_z)\n",
    "    show_original_decoded(x_test, decoded_imgs, sz)"
   ]
  },
  {
   "cell_type": "code",
   "execution_count": null,
   "metadata": {},
   "outputs": [],
   "source": [
    "# add random values to decoded\n",
    "perturb_vectors = np.random.standard_normal(size=encode_only_imgs[2].shape)\n",
    "perturb_vectors = np.multiply(perturb_vectors, 15.8)\n",
    "encode_only_imgs_z = np.add(encode_only_imgs[2], perturb_vectors)\n",
    "\n",
    "decoded_imgs = decode_only.predict(encode_only_imgs_z)\n",
    "show_original_decoded(x_test, decoded_imgs, sz)"
   ]
  },
  {
   "cell_type": "code",
   "execution_count": null,
   "metadata": {},
   "outputs": [],
   "source": [
    "random_encoded = 0.0 * np.random.standard_normal(size=encode_only_imgs[2].shape)\n",
    "print(random_encoded.shape)\n",
    "print(type(random_encoded))\n",
    "decoded_imgs_original = decode_only.predict(random_encoded)\n",
    "\n",
    "perturb_vectors = np.random.standard_normal(size=encode_only_imgs[2].shape)\n",
    "perturb_vectors = np.multiply(perturb_vectors, 5.0)\n",
    "decoded_imgs_perturbed = decode_only.predict(np.add(random_encoded, perturb_vectors))\n",
    "\n",
    "show_original_decoded(decoded_imgs_original, decoded_imgs_perturbed, sz)"
   ]
  },
  {
   "cell_type": "code",
   "execution_count": null,
   "metadata": {},
   "outputs": [],
   "source": [
    "import matplotlib.pyplot as plt\n",
    "def g(**kwargs):\n",
    "    plt.figure(2)\n",
    "    # x = np.linspace(-10,10,num=1000)\n",
    "    # plt.plot(x,kwargs['1']/100*x + kwargs['2'])\n",
    "    # plt.ylim(-5,5)\n",
    "    # plt.show()\n",
    "    latent = np.array([list(kwargs.values())])\n",
    "    # print(type(latent))\n",
    "    # print(latent.shape)\n",
    "    # latent.reshape(1,)\n",
    "    # print(latent)\n",
    "    decoded = decode_only.predict(latent)\n",
    "    plt.imshow(decoded.reshape(sz,sz))\n",
    "    plt.gray()\n",
    "    return kwargs['1']"
   ]
  },
  {
   "cell_type": "code",
   "execution_count": null,
   "metadata": {},
   "outputs": [],
   "source": [
    "from ipywidgets import interactive_output,Layout\n",
    "import ipywidgets as widgets"
   ]
  },
  {
   "cell_type": "code",
   "execution_count": null,
   "metadata": {},
   "outputs": [],
   "source": [
    "%matplotlib inline\n",
    "latent_dim = encode_only_imgs[2].shape[-1]\n",
    "kwargs = {str(k):widgets.IntSlider(value=0,min=-20,max=20,orientation='vertical',layout=Layout(padding='0%')) for k in range(latent_dim)}\n",
    "w = interactive_output(g,kwargs)\n",
    "display(widgets.HBox(list(kwargs.values()),layout=Layout(padding='0%')),w)"
   ]
  },
  {
   "cell_type": "code",
   "execution_count": null,
   "metadata": {},
   "outputs": [],
   "source": [
    "encode_only_imgs[2].shape"
   ]
  },
  {
   "cell_type": "code",
   "execution_count": 3,
   "metadata": {},
   "outputs": [
    {
     "name": "stdout",
     "output_type": "stream",
     "text": [
      "C:\\Program Files\\NVIDIA GPU Computing Toolkit\\CUDA\\v10.0\\bin\\cudart64_100.dll\n"
     ]
    }
   ],
   "source": [
    "!where cudart64_100.dll"
   ]
  },
  {
   "cell_type": "code",
   "execution_count": 4,
   "metadata": {},
   "outputs": [],
   "source": [
    "import tensorflow as tf"
   ]
  },
  {
   "cell_type": "code",
   "execution_count": null,
   "metadata": {},
   "outputs": [],
   "source": []
  }
 ],
 "metadata": {
  "kernelspec": {
   "display_name": "Python 3.6.8 64-bit",
   "language": "python",
   "name": "python36864bit0c83dea770f14d06900285e7e16051d3"
  },
  "language_info": {
   "codemirror_mode": {
    "name": "ipython",
    "version": 3
   },
   "file_extension": ".py",
   "mimetype": "text/x-python",
   "name": "python",
   "nbconvert_exporter": "python",
   "pygments_lexer": "ipython3",
   "version": "3.6.8"
  }
 },
 "nbformat": 4,
 "nbformat_minor": 2
}
