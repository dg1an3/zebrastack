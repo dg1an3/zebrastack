{
  "cells": [
    {
      "cell_type": "code",
      "source": [
        "// TRAINING SET IMAGE FILE (train-images-idx3-ubyte):\n",
        "// [offset] [type]          [value]          [description] \n",
        "// 0000     32 bit integer  0x00000803(2051) magic number \n",
        "// 0004     32 bit integer  60000            number of images \n",
        "// 0008     32 bit integer  28               number of rows \n",
        "// 0012     32 bit integer  28               number of columns \n",
        "// 0016     unsigned byte   ??               pixel \n",
        "// 0017     unsigned byte   ??               pixel \n",
        "// ........ \n",
        "// xxxx     unsigned byte   ??               pixel\n",
        "\n",
        "// TEST SET IMAGE FILE (t10k-images-idx3-ubyte):\n",
        "// [offset] [type]          [value]          [description] \n",
        "// 0000     32 bit integer  0x00000803(2051) magic number \n",
        "// 0004     32 bit integer  10000            number of images \n",
        "// 0008     32 bit integer  28               number of rows \n",
        "// 0012     32 bit integer  28               number of columns \n",
        "// 0016     unsigned byte   ??               pixel \n",
        "// 0017     unsigned byte   ??               pixel \n",
        "// ........ \n",
        "// xxxx     unsigned byte   ??               pixel\n",
        "let loadMnistImage file =\n",
        "    use stream = File.Open(file, FileMode.Open)\n",
        "    use reader = new BinaryReader(stream)\n",
        "    let magicNumber = readInt(reader)\n",
        "    let nImages = readInt(reader)\n",
        "    let nRows = readInt(reader)\n",
        "    let nColumns = readInt(reader)\n",
        "    (magicNumber, nImages, nRows, nColumns)"
      ],
      "outputs": [],
      "execution_count": null,
      "metadata": {}
    },
    {
      "cell_type": "markdown",
      "source": [
        "http://yann.lecun.com/exdb/mnist/"
      ],
      "metadata": {}
    },
    {
      "cell_type": "code",
      "source": [
        "let readInt (reader: System.IO.BinaryReader) =\n",
        "    reader.ReadInt32() |> System.Net.IPAddress.NetworkToHostOrder"
      ],
      "outputs": [],
      "execution_count": null,
      "metadata": {}
    }
  ],
  "metadata": {
    "kernelspec": {
      "name": "ifsharp",
      "language": "fsharp",
      "display_name": "F#"
    },
    "language": "fsharp",
    "language_info": {
      "name": "fsharp",
      "version": "4.3.1.0",
      "mimetype": "text/x-fsharp",
      "file_extension": ".fs",
      "pygments_lexer": "",
      "codemirror_mode": "",
      "nbconvert_exporter": ""
    },
    "kernel_info": {
      "name": "ifsharp"
    },
    "nteract": {
      "version": "0.12.3"
    }
  },
  "nbformat": 4,
  "nbformat_minor": 2
}