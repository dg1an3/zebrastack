{
 "cells": [
  {
   "cell_type": "markdown",
   "metadata": {},
   "source": [
    "# Pre-processing images as center-surround\n",
    "### a.k.a. retinal ganglion cell processing\n",
    "\n",
    "The processing pipeline involves converting to grayscale, rescaling, CLAHE filtering, and finally whitening.\n",
    "\n",
    "First, define the functions for the preprocessing pipeline.\n",
    "\n",
    "## Preparing the CovidNet dataset\n",
    "Now import the CovidNet data and pre-process by:\n",
    "* converting to grayscale (some CovidNet images are RGB)\n",
    "* apply a small-window CLAHE\n",
    "* resize to standard size\n",
    "* whiten"
   ]
  },
  {
   "cell_type": "code",
   "execution_count": null,
   "metadata": {},
   "outputs": [],
   "source": [
    "def img2grayscale(img):\n",
    "    from skimage.color import rgb2gray\n",
    "    from skimage.util import img_as_ubyte\n",
    "    if len(img.shape) > 2:\n",
    "        img = rgb2gray(img)\n",
    "        img = img_as_ubyte(img)\n",
    "    return img\n",
    "\n",
    "import cv2\n",
    "clahe = cv2.createCLAHE(clipLimit=2.0, tileGridSize=(8,8))\n",
    "\n",
    "def filter_img(img):\n",
    "    img = clahe.apply(img)\n",
    "    return img\n",
    "\n",
    "sz = 128\n",
    "def resize_img(img, sz=128):\n",
    "    from skimage.transform import resize\n",
    "    img = resize(img, (sz,sz))\n",
    "    return img\n",
    "\n",
    "def whiten_img(img):\n",
    "    import numpy as np\n",
    "    width = np.max(img) - np.min(img)\n",
    "    img = img - np.min(img)\n",
    "    img = img/width\n",
    "    return img"
   ]
  },
  {
   "cell_type": "markdown",
   "metadata": {},
   "source": [
    "We will use standard code for showing thumbnails as we progress"
   ]
  },
  {
   "cell_type": "code",
   "execution_count": null,
   "metadata": {},
   "outputs": [],
   "source": [
    "# %load show_original_decoded.py\n",
    "import matplotlib.pyplot as plt\n",
    "def show_grayscale(rows, columns, at, pixel_array, sz):\n",
    "    import scipy\n",
    "    ax = plt.subplot(rows, columns, at)\n",
    "    interp_array = scipy.ndimage.zoom(pixel_array.reshape(sz,sz), 4.0, order=5)\n",
    "    plt.imshow(interp_array.reshape(sz*4, sz*4), cmap='gray')\n",
    "    ax.get_xaxis().set_visible(False)\n",
    "    ax.get_yaxis().set_visible(False)\n",
    "\n",
    "def show_original_decoded(original, decoded, sz, n=10):\n",
    "    plt.figure(figsize=(n*2, 4))\n",
    "    for i in range(n):\n",
    "        show_grayscale(2, n, i+1, original[i], sz)\n",
    "        show_grayscale(2, n, i+1+n, decoded[i], sz)\n",
    "    plt.show(block=True)"
   ]
  },
  {
   "cell_type": "markdown",
   "metadata": {},
   "source": [
    "Define helpers for keeping track of the original and processed images, as dictionaries from the original file stem"
   ]
  },
  {
   "cell_type": "code",
   "execution_count": null,
   "metadata": {},
   "outputs": [],
   "source": [
    "original_imgs = {}\n",
    "processed_imgs = {} \n",
    "\n",
    "def show_thumbnail_progress():\n",
    "    keys = list(original_imgs.keys())[-11:-1]\n",
    "    print(keys)\n",
    "    show_original_decoded(\n",
    "        [resize_img(img2grayscale(original_imgs[key]),sz) for key in keys],\n",
    "        [processed_imgs[key] for key in keys], sz)\n",
    "\n",
    "def add_processed_img(name, original_img, processed_img, all_count):\n",
    "    original_imgs[name] = original_img\n",
    "    processed_imgs[name] = processed_img\n",
    "    print(f'{len(processed_imgs)} of {all_count}', end = '\\r')\n",
    "    if len(processed_imgs) % 100 == 0:\n",
    "        from IPython.display import clear_output\n",
    "        clear_output(True)\n",
    "        if len(processed_imgs) > 10:\n",
    "            show_thumbnail_progress()"
   ]
  },
  {
   "cell_type": "markdown",
   "metadata": {},
   "source": [
    "Scan data from original location, and compare to temp to see how many are left"
   ]
  },
  {
   "cell_type": "code",
   "execution_count": null,
   "metadata": {},
   "outputs": [],
   "source": [
    "import os\n",
    "from pathlib import Path\n",
    "chest_root = Path(os.environ['DATA_ALL']) / 'chest-nihcc'\n",
    "nofindings_png_filenames = chest_root.glob('by_class/no_finding/*.png')\n",
    "nofindings_png_filenames = list(nofindings_png_filenames)[:]\n",
    "print(f\"{len(nofindings_png_filenames)} original files\")"
   ]
  },
  {
   "cell_type": "code",
   "execution_count": null,
   "metadata": {},
   "outputs": [],
   "source": [
    "clahe_temp = Path(os.environ['DATA_TEMP']) / 'anat0mixer_temp' / 'clahe_processed'\n",
    "existing_clahe = list([fn.stem for fn in clahe_temp.glob(\"*.npy\")])\n",
    "\n",
    "remaining = len(nofindings_png_filenames) - len(existing_clahe)\n",
    "print(f\"pre-processing {remaining} of {len(nofindings_png_filenames)}\")\n",
    "\n",
    "# iterate over png files, reading and processing\n",
    "skipped = 0\n",
    "for png_filename in nofindings_png_filenames:    \n",
    "    if png_filename.stem in existing_clahe:\n",
    "        skipped = skipped + 1\n",
    "        print(f\"skipping {skipped}...\", end = '\\r')\n",
    "        continue\n",
    "        \n",
    "    # read the png image\n",
    "    import imageio            \n",
    "    original_img = imageio.imread(png_filename)\n",
    "    \n",
    "    # process the image\n",
    "    img = img2grayscale(original_img)\n",
    "    img = filter_img(img)\n",
    "    img = resize_img(img, sz)\n",
    "    img = whiten_img(img)\n",
    "    add_processed_img(png_filename.stem, \n",
    "                      original_img, img, \n",
    "                      len(nofindings_png_filenames) - len(existing_clahe))\n",
    "    \n",
    "    # and save the npy file\n",
    "    import numpy as np\n",
    "    np.save(clahe_temp / png_filename.stem, img)\n",
    "    \n",
    "print('done')"
   ]
  },
  {
   "cell_type": "code",
   "execution_count": null,
   "metadata": {},
   "outputs": [],
   "source": []
  }
 ],
 "metadata": {
  "kernelspec": {
   "display_name": "Python 3.6.8 64-bit",
   "language": "python",
   "name": "python36864bit0c83dea770f14d06900285e7e16051d3"
  },
  "language_info": {
   "codemirror_mode": {
    "name": "ipython",
    "version": 3
   },
   "file_extension": ".py",
   "mimetype": "text/x-python",
   "name": "python",
   "nbconvert_exporter": "python",
   "pygments_lexer": "ipython3",
   "version": "3.6.8"
  }
 },
 "nbformat": 4,
 "nbformat_minor": 2
}
