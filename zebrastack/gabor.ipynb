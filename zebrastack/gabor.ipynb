{
 "cells": [
  {
   "cell_type": "code",
   "execution_count": null,
   "metadata": {},
   "outputs": [],
   "source": [
    "import matplotlib.pyplot as plt\n",
    "import numpy as np\n",
    "import tensorflow as tf\n",
    "import reprlib\n",
    "import logging\n",
    "import sys\n",
    "from common.filter_banks import make_gauss_kernels, make_dog_kernels\n",
    "from common.filter_banks import wave_numbers, make_sine_kernels\n",
    "from common.filter_banks import show_filter_bank\n",
    "from common.image_ops import resize_img, whiten_img\n",
    "\n",
    "logging.basicConfig(format='%(asctime)s | %(levelname)s : %(message)s',\n",
    "                     level=logging.INFO, stream=sys.stdout)\n",
    "logging.info('Logging begin')"
   ]
  },
  {
   "cell_type": "code",
   "execution_count": null,
   "metadata": {},
   "outputs": [],
   "source": [
    "%matplotlib notebook\n",
    "gauss_kernels = make_gauss_kernels()\n",
    "show_filter_bank(gauss_kernels)"
   ]
  },
  {
   "cell_type": "code",
   "execution_count": null,
   "metadata": {},
   "outputs": [],
   "source": [
    "%matplotlib notebook\n",
    "dog_kernels = make_dog_kernels()\n",
    "show_filter_bank(dog_kernels)"
   ]
  },
  {
   "cell_type": "code",
   "execution_count": null,
   "metadata": {},
   "outputs": [],
   "source": [
    "%matplotlib notebook\n",
    "four_angle_ks = wave_numbers(4)\n",
    "three_freqs = [0.5, 1.0, 2.0]\n",
    "sine_kernels = make_sine_kernels(sz=9, ks=four_angle_ks, freqs=three_freqs)\n",
    "show_filter_bank(sine_kernels)"
   ]
  },
  {
   "cell_type": "code",
   "execution_count": null,
   "metadata": {},
   "outputs": [],
   "source": [
    "%matplotlib notebook\n",
    "from pathlib import Path\n",
    "import os\n",
    "from imageio import imread\n",
    "from skimage.color import rgb2gray\n",
    "from skimage.transform import resize\n",
    "from skimage import img_as_uint\n",
    "import cv2\n",
    "\n",
    "sz = 128\n",
    "clahe = cv2.createCLAHE(clipLimit=2.0, tileGridSize=(4,4))\n",
    "slice_path = Path(os.environ['DATA_ALL']) / 'NIH_DeepLesion' / 'Images_png_01' / 'Images_png' / '000001_01_01' / '108.png'\n",
    "transverse_slice = imread(slice_path)\n",
    "transverse_slice = resize(transverse_slice, (sz,sz))\n",
    "transverse_slice = img_as_uint(transverse_slice)\n",
    "logging.info(np.histogram(transverse_slice, 10))\n",
    "transverse_slice = clahe.apply(transverse_slice)\n",
    "ts_min, ts_max = np.min(transverse_slice), np.max(transverse_slice)\n",
    "ts_width = ts_max - ts_min\n",
    "transverse_slice = (transverse_slice - ts_min) / ts_width\n",
    "transverse_slice = np.reshape(transverse_slice, (1,sz,sz,1))\n",
    "logging.info(np.histogram(transverse_slice, 10))\n",
    "\n",
    "transverse_slice_tf = tf.constant(transverse_slice, dtype=tf.float32)\n",
    "transverse_slice_out_tf = \\\n",
    "    tf.nn.conv2d(transverse_slice_tf, dog_kernels_tf,\n",
    "                 strides=[1, 1, 1, 1],\n",
    "                 padding='SAME')\n",
    "\n",
    "fig, axs = plt.subplots(2,2)\n",
    "for n in range(4):\n",
    "    level_img = np.reshape(transverse_slice_out_tf[...,n], (sz,sz))\n",
    "    axs[n // 2][n % 2].imshow(level_img, cmap='gray', vmin=-.5, vmax=.5)"
   ]
  },
  {
   "cell_type": "code",
   "execution_count": null,
   "metadata": {},
   "outputs": [],
   "source": [
    "%matplotlib notebook\n",
    "racoon = imread('E:/Users/local_dev/Pictures/racoon.png')\n",
    "racoon = rgb2gray(resize(racoon, (sz,sz)))\n",
    "\n",
    "racoon = np.reshape(racoon, (1,sz,sz,1))\n",
    "racoon_tf = tf.constant(racoon, dtype=tf.float32)\n",
    "\n",
    "racoon_out_tf = \\\n",
    "    tf.nn.conv2d(racoon_tf, dog_kernels_tf,\n",
    "                 strides=[1, 1, 1, 1],\n",
    "                 padding='SAME')\n",
    "\n",
    "fig, axs = plt.subplots(2,2)\n",
    "for n in range(4):\n",
    "    level_img = np.reshape(racoon_out_tf[...,n], (sz,sz))\n",
    "    axs[n // 2][n % 2].imshow(level_img, cmap='gray', vmin=-.5, vmax=.5)"
   ]
  },
  {
   "cell_type": "code",
   "execution_count": null,
   "metadata": {},
   "outputs": [],
   "source": [
    "%matplotlib notebook\n",
    "def mse_tf(current_tf:tf.Tensor, kernel_tf:tf.Tensor, match_tf:tf.Tensor):\n",
    "    current_out_tf = \\\n",
    "        tf.nn.conv2d(current_tf, kernel_tf,\n",
    "                     strides=[1, 1, 1, 1],\n",
    "                     padding='SAME')\n",
    "    loss = tf.reduce_mean((current_out_tf - match_tf) ** 2)\n",
    "    return loss\n",
    "\n",
    "current_value = tf.Variable(np.zeros((1,sz,sz,1)), dtype=tf.float32)\n",
    "with tf.GradientTape() as tape:\n",
    "    current_out = mse_tf(current_value, dog_kernels_tf, transverse_slice_out_tf)\n",
    "grad = tape.gradient(current_out, current_value)\n",
    "\n",
    "fig, axs = plt.subplots(1,2,figsize=(5,3))\n",
    "axs[0].imshow(tf.reshape(current_value, (sz,sz)))\n",
    "axs[1].imshow(tf.reshape(grad, (sz,sz)))"
   ]
  },
  {
   "cell_type": "code",
   "execution_count": null,
   "metadata": {},
   "outputs": [],
   "source": [
    "%matplotlib notebook\n",
    "fig, axs = plt.subplots(1,2,figsize=(5,3))\n",
    "learning_rate = 1e+3\n",
    "for n in range(100):\n",
    "    current_value.assign_sub(learning_rate * grad)\n",
    "    with tf.GradientTape() as tape:\n",
    "        current_out = mse_tf(current_value, dog_kernels_tf, transverse_slice_out_tf)\n",
    "        logging.info(f\"loss = {current_out}   \")\n",
    "    grad = tape.gradient(current_out, current_value)\n",
    "axs[0].imshow(tf.reshape(current_value, (sz,sz)), cmap='gray')\n",
    "axs[1].imshow(tf.reshape(grad, (sz,sz)))\n",
    "plt.show()"
   ]
  },
  {
   "cell_type": "code",
   "execution_count": null,
   "metadata": {},
   "outputs": [],
   "source": []
  },
  {
   "cell_type": "code",
   "execution_count": null,
   "metadata": {},
   "outputs": [],
   "source": []
  }
 ],
 "metadata": {
  "kernelspec": {
   "display_name": "Python 3.6.8 64-bit",
   "language": "python",
   "name": "python36864bit0c83dea770f14d06900285e7e16051d3"
  },
  "language_info": {
   "codemirror_mode": {
    "name": "ipython",
    "version": 3
   },
   "file_extension": ".py",
   "mimetype": "text/x-python",
   "name": "python",
   "nbconvert_exporter": "python",
   "pygments_lexer": "ipython3",
   "version": "3.6.8"
  }
 },
 "nbformat": 4,
 "nbformat_minor": 2
}
