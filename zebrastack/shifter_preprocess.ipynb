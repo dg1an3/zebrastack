{
 "metadata": {
  "language_info": {
   "codemirror_mode": {
    "name": "ipython",
    "version": 3
   },
   "file_extension": ".py",
   "mimetype": "text/x-python",
   "name": "python",
   "nbconvert_exporter": "python",
   "pygments_lexer": "ipython3",
   "version": "3.6.8-final"
  },
  "orig_nbformat": 2,
  "kernelspec": {
   "name": "python36864bit0c83dea770f14d06900285e7e16051d3",
   "display_name": "Python 3.6.8 64-bit"
  }
 },
 "nbformat": 4,
 "nbformat_minor": 2,
 "cells": [
  {
   "cell_type": "markdown",
   "metadata": {},
   "source": [
    "## Apply Shifter to Dataset"
   ]
  },
  {
   "cell_type": "code",
   "execution_count": null,
   "metadata": {
    "tags": []
   },
   "outputs": [],
   "source": [
    "import numpy as np\n",
    "from common.image_preprocessing import data_all, data_temp, temp_from_original\n",
    "from pathlib import Path, PurePath\n",
    "\n",
    "sz = 128\n",
    "cxr8_original_path = data_all / 'chest-nihcc' / 'by_class' / 'no_finding'\n",
    "weights_cxr8_temp = temp_from_original(cxr8_original_path, \n",
    "                                        PurePath(f\"{sz}x{sz}\") / 'weights')"
   ]
  },
  {
   "cell_type": "code",
   "execution_count": null,
   "metadata": {
    "tags": []
   },
   "outputs": [],
   "source": [
    "from cxr_projection.zebrastack_v0_model import create_autoencoder\n",
    "encoder, decoder, autoencoder = create_autoencoder()"
   ]
  },
  {
   "cell_type": "code",
   "execution_count": null,
   "metadata": {
    "tags": []
   },
   "outputs": [],
   "source": [
    "# load the most recent rgc weights\n",
    "encode_fn = sorted(weights_cxr8_temp.glob(\"*_rgc_encoder.h5\"))[-1]\n",
    "print(\"Loading \", encode_fn)\n",
    "encoder.load_weights(encode_fn)\n",
    "\n",
    "decode_fn = sorted(weights_cxr8_temp.glob(\"*_rgc_decoder.h5\"))[-1]\n",
    "print(\"Loading \", decode_fn)\n",
    "decoder.load_weights(decode_fn)\n",
    "\n",
    "autoencoder_fn = sorted(weights_cxr8_temp.glob(\"*_rgc_autoencoder.h5\"))[-1]\n",
    "print(\"Loading \", autoencoder_fn)\n",
    "autoencoder.load_weights(autoencoder_fn)"
   ]
  },
  {
   "cell_type": "code",
   "execution_count": null,
   "metadata": {
    "tags": []
   },
   "outputs": [],
   "source": [
    "import time\n",
    "cxr8_temp = temp_from_original(cxr8_original_path, PurePath(f\"{sz}x{sz}\") / 'clahe_processed')\n",
    "\n",
    "processed_imgs = {}\n",
    "\n",
    "start_time = time.time()\n",
    "for npy_filepath in cxr8_temp.glob('*.npy'):\n",
    "    img = np.load(npy_filepath)\n",
    "    img = np.reshape(img, (img.shape[0],img.shape[1],1))\n",
    "    processed_imgs[npy_filepath.stem] = img\n",
    "    if len(processed_imgs) % 100 == 0:\n",
    "        print(npy_filepath.stem, img.shape, end='\\r')\n",
    "end_time = time.time()\n",
    "\n",
    "print(f\"Loaded {len(processed_imgs)} npy in {end_time - start_time} seconds\")"
   ]
  },
  {
   "cell_type": "code",
   "execution_count": null,
   "metadata": {
    "tags": [
     "outputPrepend"
    ]
   },
   "outputs": [],
   "source": [
    "from common.shifter_ops import shift\n",
    "\n",
    "processed_imgs_shifted = {}\n",
    "for name in processed_imgs:\n",
    "    img = processed_imgs[name]\n",
    "    if name not in processed_imgs_shifted:\n",
    "        processed_imgs_shifted[name] = shift(img, encoder)\n",
    "        print()\n",
    "        print(name, end='\\r')"
   ]
  },
  {
   "cell_type": "code",
   "execution_count": null,
   "metadata": {},
   "outputs": [],
   "source": []
  }
 ]
}