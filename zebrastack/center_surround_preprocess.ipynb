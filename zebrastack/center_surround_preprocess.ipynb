{
 "cells": [
  {
   "cell_type": "markdown",
   "metadata": {},
   "source": [
    "# Center-Surround Preprocessing\n",
    "To assist in training, we pre-process images to create a common resolution, and apply a CLAHE filter and whiten.\n",
    "\n",
    "First, we import the support routines.  We also get the variables that set the original data location and the location of the processed data."
   ]
  },
  {
   "cell_type": "code",
   "execution_count": 7,
   "metadata": {
    "tags": []
   },
   "outputs": [],
   "source": [
    "from common.image_preprocessing import data_all, data_temp\n",
    "from common.image_preprocessing import preprocess_images, temp_from_original\n",
    "from common.image_preprocessing import read_imageio, read_dcm\n",
    "from common.image_ops import img2grayscale, whiten_img, resize_img, clahe_img, center_surround"
   ]
  },
  {
   "cell_type": "markdown",
   "metadata": {},
   "source": [
    "## CXR8 Processing\n",
    "The CXR8 dataset is a set of PNG radiographs that are named to indicate subject and follow-up"
   ]
  },
  {
   "cell_type": "code",
   "execution_count": 3,
   "metadata": {},
   "outputs": [],
   "source": [
    "from pathlib import PurePath\n",
    "sz = 128\n",
    "temp_relative_path = PurePath(f\"{sz}x{sz}\") / 'clahe_processed'\n",
    "cxr8_original_path = data_all / 'chest-nihcc' / 'by_class' / 'no_finding'\n",
    "cxr8_png_filenames = list(cxr8_original_path.glob('*.png'))[:]\n",
    "cxr8_temp = temp_from_original(cxr8_original_path, temp_relative_path)"
   ]
  },
  {
   "cell_type": "code",
   "execution_count": null,
   "metadata": {
    "tags": []
   },
   "outputs": [],
   "source": [
    "%matplotlib inline\n",
    "preprocess_images(cxr8_png_filenames, read_imageio, \n",
    "                  lambda img:center_surround(img, sz=sz), cxr8_temp)"
   ]
  },
  {
   "cell_type": "markdown",
   "metadata": {},
   "source": [
    "## LIDC Processing\n",
    "LIDC is a collection of CT series, which we process using center-surround as well"
   ]
  },
  {
   "cell_type": "code",
   "execution_count": null,
   "metadata": {},
   "outputs": [],
   "source": [
    "lidc_original_path = data_all / 'TCIA-LIDC' / 'LIDC-IDRI'\n",
    "lidc_dcm_filenames = list(lidc_original_path.glob('**/*.dcm'))[:]\n",
    "lidc_temp = temp_from_original(lidc_original_path, temp_relative_path)"
   ]
  },
  {
   "cell_type": "code",
   "execution_count": null,
   "metadata": {},
   "outputs": [],
   "source": [
    "%matplotlib inline\n",
    "preprocess_images(lidc_dcm_filenames, read_dcm, \n",
    "                  lambda img:center_surround(img, sz=sz), lidc_temp)"
   ]
  },
  {
   "cell_type": "markdown",
   "metadata": {},
   "source": [
    "## eevorg processing"
   ]
  },
  {
   "cell_type": "code",
   "execution_count": 8,
   "metadata": {},
   "outputs": [
    {
     "name": "stdout",
     "output_type": "stream",
     "text": [
      "E:\\Data\\zebtrastack_temp\\eevorg\\original_png E:\\Data\\zebtrastack_temp\\eevorg\\128x128\\clahe_processed\n"
     ]
    }
   ],
   "source": [
    "eevorg_original_path = data_temp / 'eevorg' / 'original_png'\n",
    "eevorg_png_filenames = list(eevorg_original_path.glob('*.png'))[:]\n",
    "eevorg_temp = data_temp / 'eevorg' / temp_relative_path\n",
    "print(eevorg_original_path, eevorg_temp)"
   ]
  },
  {
   "cell_type": "code",
   "execution_count": 12,
   "metadata": {},
   "outputs": [],
   "source": [
    "import numpy as np\n",
    "import math\n",
    "def calc_entropy(img):\n",
    "    bins, _ = np.histogram(img)\n",
    "    bins = bins / sum(bins)\n",
    "    return sum([-b * math.log(b+1e-6) for b in bins])"
   ]
  },
  {
   "cell_type": "code",
   "execution_count": 13,
   "metadata": {},
   "outputs": [
    {
     "name": "stdout",
     "output_type": "stream",
     "text": [
      "E:\\Data\\zebtrastack_temp\\eevorg\\128x128\\clahe_processed\\711512150 (64, 64) uint8888888881111111\r"
     ]
    }
   ],
   "source": [
    "%matplotlib inline\n",
    "preprocess_images(eevorg_png_filenames, read_imageio, \n",
    "                  lambda img:center_surround(img, sz=sz), eevorg_temp,\n",
    "                  select_img=lambda img:calc_entropy(img) > 0.1)"
   ]
  },
  {
   "cell_type": "code",
   "execution_count": null,
   "metadata": {},
   "outputs": [],
   "source": []
  }
 ],
 "metadata": {
  "kernelspec": {
   "display_name": "Python 3.6.8 64-bit",
   "language": "python",
   "name": "python36864bit0c83dea770f14d06900285e7e16051d3"
  },
  "language_info": {
   "codemirror_mode": {
    "name": "ipython",
    "version": 3
   },
   "file_extension": ".py",
   "mimetype": "text/x-python",
   "name": "python",
   "nbconvert_exporter": "python",
   "pygments_lexer": "ipython3",
   "version": "3.6.8"
  }
 },
 "nbformat": 4,
 "nbformat_minor": 2
}
