{
 "cells": [
  {
   "cell_type": "code",
   "execution_count": 1,
   "metadata": {},
   "outputs": [],
   "source": [
    "import numpy as np"
   ]
  },
  {
   "cell_type": "code",
   "execution_count": 8,
   "metadata": {},
   "outputs": [
    {
     "data": {
      "text/plain": [
       "dtype('float32')"
      ]
     },
     "execution_count": 8,
     "metadata": {},
     "output_type": "execute_result"
    }
   ],
   "source": [
    "fn = '/'.join(['e:', 'Data', 'zebtrastack_temp', 'NIH_Cxr8', \n",
    "               '128x128', 'channelized_clahe_processed', \n",
    "               '00000032_009.npy'])\n",
    "sample = np.load(fn)\n",
    "sample.dtype"
   ]
  },
  {
   "cell_type": "code",
   "execution_count": 10,
   "metadata": {},
   "outputs": [
    {
     "name": "stdout",
     "output_type": "stream",
     "text": [
      "Downloading data from https://storage.googleapis.com/download.tensorflow.org/example_images/flower_photos.tgz\n",
      "228818944/228813984 [==============================] - 134s 1us/step\n"
     ]
    }
   ],
   "source": [
    "import pathlib\n",
    "import tensorflow as tf\n",
    "dataset_url = \"https://storage.googleapis.com/download.tensorflow.org/example_images/flower_photos.tgz\"\n",
    "data_dir = tf.keras.utils.get_file(origin=dataset_url, \n",
    "                                   fname='flower_photos', \n",
    "                                   untar=True)\n",
    "data_dir = pathlib.Path(data_dir)"
   ]
  },
  {
   "cell_type": "code",
   "execution_count": 11,
   "metadata": {},
   "outputs": [
    {
     "name": "stdout",
     "output_type": "stream",
     "text": [
      "3670\n"
     ]
    }
   ],
   "source": [
    "image_count = len(list(data_dir.glob('*/*.jpg')))\n",
    "print(image_count)"
   ]
  },
  {
   "cell_type": "code",
   "execution_count": 12,
   "metadata": {},
   "outputs": [],
   "source": [
    "list_ds = tf.data.Dataset.list_files(str(data_dir/'*/*'), shuffle=False)\n",
    "list_ds = list_ds.shuffle(image_count, reshuffle_each_iteration=False)"
   ]
  },
  {
   "cell_type": "code",
   "execution_count": 13,
   "metadata": {},
   "outputs": [
    {
     "name": "stdout",
     "output_type": "stream",
     "text": [
      "b'C:\\\\Users\\\\test\\\\.keras\\\\datasets\\\\flower_photos\\\\sunflowers\\\\5830614551_e460a1215c.jpg'\n",
      "b'C:\\\\Users\\\\test\\\\.keras\\\\datasets\\\\flower_photos\\\\tulips\\\\7136973281_b2a935ce20.jpg'\n",
      "b'C:\\\\Users\\\\test\\\\.keras\\\\datasets\\\\flower_photos\\\\sunflowers\\\\16975010069_7afd290657_m.jpg'\n",
      "b'C:\\\\Users\\\\test\\\\.keras\\\\datasets\\\\flower_photos\\\\dandelion\\\\3533075436_0954145b9f_m.jpg'\n",
      "b'C:\\\\Users\\\\test\\\\.keras\\\\datasets\\\\flower_photos\\\\dandelion\\\\15358221063_2c6e548e84.jpg'\n"
     ]
    }
   ],
   "source": [
    "for f in list_ds.take(5):\n",
    "  print(f.numpy())"
   ]
  },
  {
   "cell_type": "code",
   "execution_count": 14,
   "metadata": {},
   "outputs": [
    {
     "name": "stdout",
     "output_type": "stream",
     "text": [
      "['daisy' 'dandelion' 'roses' 'sunflowers' 'tulips']\n"
     ]
    }
   ],
   "source": [
    "class_names = np.array(sorted([item.name for item in data_dir.glob('*') if item.name != \"LICENSE.txt\"]))\n",
    "print(class_names)"
   ]
  },
  {
   "cell_type": "code",
   "execution_count": 63,
   "metadata": {},
   "outputs": [],
   "source": [
    "val_size = int(image_count * 0.2)\n",
    "train_ds = list_ds.skip(val_size)\n",
    "val_ds = list_ds.take(val_size)"
   ]
  },
  {
   "cell_type": "code",
   "execution_count": 64,
   "metadata": {},
   "outputs": [
    {
     "name": "stdout",
     "output_type": "stream",
     "text": [
      "2936\n",
      "734\n"
     ]
    }
   ],
   "source": [
    "print(tf.data.experimental.cardinality(train_ds).numpy())\n",
    "print(tf.data.experimental.cardinality(val_ds).numpy())"
   ]
  },
  {
   "cell_type": "code",
   "execution_count": 46,
   "metadata": {},
   "outputs": [
    {
     "name": "stdout",
     "output_type": "stream",
     "text": [
      "tf.Tensor(b'C:\\\\Users\\\\test\\\\.keras\\\\datasets\\\\flower_photos\\\\dandelion\\\\3502447188_ab4a5055ac_m.jpg', shape=(), dtype=string)\n",
      "tf.Tensor(b'C:\\\\Users\\\\test\\\\.keras\\\\datasets\\\\flower_photos\\\\sunflowers\\\\200557977_bf24d9550b.jpg', shape=(), dtype=string)\n",
      "tf.Tensor(b'C:\\\\Users\\\\test\\\\.keras\\\\datasets\\\\flower_photos\\\\roses\\\\4504220673_af754fcb40_n.jpg', shape=(), dtype=string)\n",
      "tf.Tensor(b'C:\\\\Users\\\\test\\\\.keras\\\\datasets\\\\flower_photos\\\\sunflowers\\\\6141150299_b46a64e4de.jpg', shape=(), dtype=string)\n",
      "tf.Tensor(b'C:\\\\Users\\\\test\\\\.keras\\\\datasets\\\\flower_photos\\\\tulips\\\\17012955700_7141d29eee.jpg', shape=(), dtype=string)\n"
     ]
    }
   ],
   "source": [
    "for d in train_ds.take(5):\n",
    "    print(d)"
   ]
  },
  {
   "cell_type": "code",
   "execution_count": 65,
   "metadata": {},
   "outputs": [],
   "source": [
    "import os\n",
    "def get_label(file_path):\n",
    "    print(f\"get_label({file_path})\")\n",
    "    # convert the path to a list of path components\n",
    "    parts = tf.strings.split(file_path, os.path.sep)\n",
    "    print(parts)\n",
    "    # The second to last is the class-directory\n",
    "    # one_hot = parts[-2] == class_names\n",
    "    # Integer encode the label\n",
    "    return parts[-2] #tf.argmax(one_hot)"
   ]
  },
  {
   "cell_type": "code",
   "execution_count": 66,
   "metadata": {},
   "outputs": [],
   "source": [
    "img_height, img_width = 256, 256\n",
    "def decode_img(img):\n",
    "    print(img.shape)\n",
    "    # convert the compressed string to a 3D uint8 tensor\n",
    "    img = tf.image.decode_jpeg(img, channels=3)\n",
    "    # resize the image to the desired size\n",
    "    return tf.image.resize(img, [img_height, img_width])"
   ]
  },
  {
   "cell_type": "code",
   "execution_count": 67,
   "metadata": {},
   "outputs": [],
   "source": [
    "def process_path(file_path):\n",
    "    print(file_path)\n",
    "    label = get_label(file_path)\n",
    "    # load the raw data from the file as a string\n",
    "    img = tf.io.read_file(file_path)\n",
    "    img = decode_img(img)\n",
    "    return img, label"
   ]
  },
  {
   "cell_type": "code",
   "execution_count": 68,
   "metadata": {},
   "outputs": [
    {
     "name": "stdout",
     "output_type": "stream",
     "text": [
      "WARNING:tensorflow:AutoGraph could not transform <function process_path at 0x00000229CEE65BF8> and will run it as-is.\n",
      "Please report this to the TensorFlow team. When filing the bug, set the verbosity to 10 (on Linux, `export AUTOGRAPH_VERBOSITY=10`) and attach the full output.\n",
      "Cause: Bad argument number for Name: 3, expecting 4\n",
      "WARNING: AutoGraph could not transform <function process_path at 0x00000229CEE65BF8> and will run it as-is.\n",
      "Please report this to the TensorFlow team. When filing the bug, set the verbosity to 10 (on Linux, `export AUTOGRAPH_VERBOSITY=10`) and attach the full output.\n",
      "Cause: Bad argument number for Name: 3, expecting 4\n",
      "Tensor(\"args_0:0\", shape=(), dtype=string)\n",
      "get_label(Tensor(\"args_0:0\", shape=(), dtype=string))\n",
      "Tensor(\"StringSplit/RaggedGetItem/strided_slice_5:0\", shape=(None,), dtype=string)\n",
      "()\n",
      "Tensor(\"args_0:0\", shape=(), dtype=string)\n",
      "get_label(Tensor(\"args_0:0\", shape=(), dtype=string))\n",
      "Tensor(\"StringSplit/RaggedGetItem/strided_slice_5:0\", shape=(None,), dtype=string)\n",
      "()\n"
     ]
    }
   ],
   "source": [
    "# Set `num_parallel_calls` so multiple images are loaded/processed in parallel.\n",
    "train_ds = train_ds.map(process_path)\n",
    "val_ds = val_ds.map(process_path)"
   ]
  },
  {
   "cell_type": "code",
   "execution_count": 69,
   "metadata": {},
   "outputs": [
    {
     "name": "stdout",
     "output_type": "stream",
     "text": [
      "Image shape:  (256, 256, 3)\n",
      "Label:  b'dandelion'\n"
     ]
    }
   ],
   "source": [
    "for image, label in train_ds.take(1):\n",
    "  print(\"Image shape: \", image.numpy().shape)\n",
    "  print(\"Label: \", label.numpy())"
   ]
  },
  {
   "cell_type": "code",
   "execution_count": null,
   "metadata": {},
   "outputs": [],
   "source": []
  }
 ],
 "metadata": {
  "kernelspec": {
   "display_name": "Python 3.6.8 64-bit",
   "language": "python",
   "name": "python36864bit0c83dea770f14d06900285e7e16051d3"
  },
  "language_info": {
   "codemirror_mode": {
    "name": "ipython",
    "version": 3
   },
   "file_extension": ".py",
   "mimetype": "text/x-python",
   "name": "python",
   "nbconvert_exporter": "python",
   "pygments_lexer": "ipython3",
   "version": "3.6.8"
  }
 },
 "nbformat": 4,
 "nbformat_minor": 2
}
