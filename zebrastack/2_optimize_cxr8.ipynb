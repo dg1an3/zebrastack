{
 "metadata": {
  "language_info": {
   "codemirror_mode": {
    "name": "ipython",
    "version": 3
   },
   "file_extension": ".py",
   "mimetype": "text/x-python",
   "name": "python",
   "nbconvert_exporter": "python",
   "pygments_lexer": "ipython3",
   "version": "3.8.6-final"
  },
  "orig_nbformat": 2,
  "kernelspec": {
   "name": "python3",
   "display_name": "Python 3.8.6 64-bit",
   "metadata": {
    "interpreter": {
     "hash": "0683780d03ee1195a9e1ac19e401b8f6c3447ee82d0b15d335dacfb764b91f68"
    }
   }
  }
 },
 "nbformat": 4,
 "nbformat_minor": 2,
 "cells": [
  {
   "cell_type": "code",
   "execution_count": null,
   "metadata": {},
   "outputs": [],
   "source": [
    "import sys, logging\n",
    "log_format = '%(asctime)s | %(levelname)s : %(message)s'\n",
    "logging.basicConfig(format=log_format, level=logging.INFO, stream=sys.stdout)\n",
    "\n",
    "import tensorflow as tf\n",
    "logging.info(f\"Start with tf version {tf.version.VERSION}\")\n",
    "\n",
    "from pathlib import Path\n",
    "cxr_image_path = Path(os.environ['DATA_NIH_CXR8']) / 'images' / '00010827_000.png'\n",
    "logging.info(f\"Test radiograph at {cxr_image_path}\")"
   ]
  },
  {
   "cell_type": "code",
   "execution_count": null,
   "metadata": {},
   "outputs": [],
   "source": [
    "%matplotlib inline\n",
    "\n",
    "import cv2\n",
    "clahe = cv2.createCLAHE(clipLimit=2.0, tileGridSize=(4,4))\n",
    "\n",
    "from imageio import imread\n",
    "from skimage.color import rgb2gray\n",
    "from common.image_ops import *\n",
    "\n",
    "sz = 128\n",
    "cxr_image = imread(cxr_image_path)\n",
    "cxr_image = resize(cxr_image, (sz,sz))\n",
    "cxr_image = img_as_uint(cxr_image)\n",
    "logging.info(np.histogram(cxr_image, 10))\n",
    "\n",
    "cxr_image = clahe.apply(cxr_image)\n",
    "cx_min, cx_max = np.min(cxr_image), np.max(cxr_image)\n",
    "cx_width = cx_max - cx_min\n",
    "cxr_image = (cxr_image - cx_min) / cx_width\n",
    "cxr_image = np.reshape(cxr_image, (1,sz,sz,1))\n",
    "logging.info(np.histogram(cxr_image, 10))"
   ]
  },
  {
   "cell_type": "code",
   "execution_count": null,
   "metadata": {},
   "outputs": [],
   "source": [
    "from common.filter_banks import *\n",
    "ks = wave_numbers(6)\n",
    "gabor_kernels = \\\n",
    "    make_gabor_kernels(sz=13, ks=ks, freqs=[0.5,1.0,2.0])\n",
    "logging.info(f\"Generated gabor kernels of size={gabor_kernels.shape}\")"
   ]
  },
  {
   "cell_type": "code",
   "execution_count": null,
   "metadata": {},
   "outputs": [],
   "source": [
    "cxr_image_tf = tf.constant(cxr_image, dtype=tf.float32)\n",
    "cxr_image_out_tf_sq = conv2d_sq(cxr_image_tf, gabor_kernels)\n",
    "cxr_image_out_sub = \\\n",
    "    tf.nn.max_pool(cxr_image_out_tf_sq, (4,4), \n",
    "                   strides=2, padding='SAME')\n",
    "\n",
    "show_filter_response(cxr_image_out_sub, rows=3)"
   ]
  },
  {
   "cell_type": "code",
   "execution_count": null,
   "metadata": {},
   "outputs": [],
   "source": [
    "current_value = tf.Variable(0.5 * np.ones((1,sz,sz,1)), dtype=tf.float32)\n",
    "with tf.GradientTape() as tape:\n",
    "    current_out = mse_tf(current_value, gabor_kernels, cxr_image_out_sub)\n",
    "grad = tape.gradient(current_out, current_value)\n",
    "print(grad.shape, current_out)\n",
    "fig, axs = plt.subplots(1,2,figsize=(5,3))\n",
    "axs[0].imshow(tf.reshape(current_value, (sz,sz)))\n",
    "axs[1].imshow(tf.reshape(grad, (sz,sz)))"
   ]
  },
  {
   "cell_type": "code",
   "execution_count": null,
   "metadata": {},
   "outputs": [],
   "source": [
    "%matplotlib inline\n",
    "from IPython.display import clear_output\n",
    "learning_rate = 1e+3\n",
    "\n",
    "optimizer = tf.optimizers.Adam()\n",
    "for n in range(1000):\n",
    "    optimizer.apply_gradients(zip([grad], [current_value]))\n",
    "    # current_value.assign_sub(learning_rate * grad)\n",
    "    with tf.GradientTape() as tape:\n",
    "        current_out = mse_tf(current_value, gabor_kernels, cxr_image_out_sub)\n",
    "        # tf.print(f\"loss = {current_out}   \")\n",
    "    grad = tape.gradient(current_out, current_value)\n",
    "    \n",
    "fig, axs = plt.subplots(1,3,figsize=(5,3))\n",
    "axs[0].imshow(tf.reshape(cxr_image[...,0], (sz,sz)), cmap='gray', vmin=0., vmax=0.8)\n",
    "axs[1].imshow(tf.reshape(current_value, (sz,sz)), cmap='gray', vmin=0., vmax=0.8)\n",
    "axs[2].imshow(tf.reshape(grad, (sz,sz)))"
   ]
  },
  {
   "cell_type": "code",
   "execution_count": null,
   "metadata": {},
   "outputs": [],
   "source": []
  },
  {
   "source": [
    "## Now do the same thing for a CT slice"
   ],
   "cell_type": "markdown",
   "metadata": {}
  },
  {
   "cell_type": "code",
   "execution_count": null,
   "metadata": {},
   "outputs": [],
   "source": [
    "%matplotlib inline\n",
    "clahe = cv2.createCLAHE(clipLimit=2.0, tileGridSize=(4,4))\n",
    "slice_path = Path('g:/') / 'Data_Training_MedicalImaging' / 'NIH_DeepLesion' \\\n",
    "                    / 'Images_png_01' / 'Images_png' \\\n",
    "                    / '000001_01_01' / '108.png'\n",
    "transverse_slice = imread(slice_path)\n",
    "transverse_slice = resize(transverse_slice, (sz,sz))\n",
    "transverse_slice = img_as_uint(transverse_slice)\n",
    "logging.info(np.histogram(transverse_slice, 10))\n",
    "\n",
    "transverse_slice = clahe.apply(transverse_slice)\n",
    "ts_min, ts_max = np.min(transverse_slice), np.max(transverse_slice)\n",
    "ts_width = ts_max - ts_min\n",
    "transverse_slice = (transverse_slice - ts_min) / ts_width\n",
    "transverse_slice = np.reshape(transverse_slice, (1,sz,sz,1))\n",
    "logging.info(np.histogram(transverse_slice, 10))\n",
    "\n",
    "transverse_slice_tf = tf.constant(transverse_slice, dtype=tf.float32)\n",
    "transverse_slice_out_tf_sq = conv2d_sq(transverse_slice_tf, gabor_kernels)\n",
    "transverse_slice_out_sub = \\\n",
    "    tf.nn.max_pool(transverse_slice_out_tf_sq, (2,2), \n",
    "                   strides=2, padding='SAME')\n",
    "\n",
    "show_filter_response(transverse_slice_out_sub, rows=3)"
   ]
  }
 ]
}