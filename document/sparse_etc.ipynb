{
  "cells": [
    {
      "cell_type": "markdown",
      "source": [
        "Zebra Stack\n",
        "Implement sparse encoder for (image) thumbnails:\n",
        "* from log Gabor pyramid using L0 norm\n",
        "  - optimize signal fidelity + L0 norm sparsity by\n",
        "    changing wavelet coefficients\n",
        "* using a few 4D gaussian blobs in log Gabor filter space\n",
        "  - optimize signal fidelity by changing blob centers and coefficients in 4D space\n",
        "* Sparse encoding using 4D log gabor blobs induced by 2D map\n",
        "  - optimize signal fidelity by changing blob centers, 2D map L0 norm sparsity\n",
        "* Sparse encoding using 4D gaussian blobs above 2D induction map"
      ],
      "metadata": {
        "collapsed": false,
        "outputHidden": false,
        "inputHidden": false
      }
    },
    {
      "cell_type": "markdown",
      "source": [
        "Functional analysis of IRA\n",
        "* Activity diagrams with Request / Response data flow pins\n",
        "* Data flow analysis showing pipelines from Request / Response\n",
        "* fsharp model for data flow, FsCheck to test these\n",
        "* doxygen parameter / property extraction and correlation for Automapper rules\n",
        "* abrevacat property mapping\n",
        "* Automapper from DICOM domain model to DTOs\n",
        "* DICOM toolkit selection\n",
        "* LambdaDicom type provider as domain model\n",
        "* CAP theorem and PARLEC theorem\n",
        "  - and Radiant discussions"
      ],
      "metadata": {}
    }
  ],
  "metadata": {
    "kernel_info": {
      "name": "python3"
    },
    "language_info": {
      "name": "python",
      "version": "3.6.6",
      "mimetype": "text/x-python",
      "codemirror_mode": {
        "name": "ipython",
        "version": 3
      },
      "pygments_lexer": "ipython3",
      "nbconvert_exporter": "python",
      "file_extension": ".py"
    },
    "kernelspec": {
      "name": "python3",
      "language": "python",
      "display_name": "Python 3"
    },
    "nteract": {
      "version": "0.12.3"
    }
  },
  "nbformat": 4,
  "nbformat_minor": 4
}