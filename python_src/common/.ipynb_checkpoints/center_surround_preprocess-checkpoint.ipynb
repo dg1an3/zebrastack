{
 "cells": [
  {
   "cell_type": "markdown",
   "metadata": {},
   "source": [
    "# Center-Surround Preprocessing\n",
    "To assist in training, we pre-process images to create a common resolution, and apply a CLAHE filter and whiten.\n",
    "\n",
    "First, we import the support routines.  We also get the variables that set the original data location and the location of the processed data."
   ]
  },
  {
   "cell_type": "code",
   "execution_count": 1,
   "metadata": {},
   "outputs": [
    {
     "name": "stdout",
     "output_type": "stream",
     "text": [
      "DATA_ALL = G:\\DataAll, DATA_TEMP = E:\\Data\\zebtrastack_temp\n"
     ]
    }
   ],
   "source": [
    "from image_preprocessing import data_all, data_temp\n",
    "from image_preprocessing import preprocess_images, temp_from_original\n",
    "from image_preprocessing import read_png, read_dcm\n",
    "from image_ops import img2grayscale, whiten_img, resize_img, clahe_img, center_surround\n",
    "print(f\"DATA_ALL = {data_all}, DATA_TEMP = {data_temp}\")"
   ]
  },
  {
   "cell_type": "markdown",
   "metadata": {},
   "source": [
    "We will also set up to display output in the form of thumbnails as we go"
   ]
  },
  {
   "cell_type": "code",
   "execution_count": 2,
   "metadata": {},
   "outputs": [],
   "source": [
    "%matplotlib inline\n",
    "from show_thumbnails import show_inline_notebook"
   ]
  },
  {
   "cell_type": "markdown",
   "metadata": {},
   "source": [
    "## CXR8 Processing\n",
    "The CXR8 dataset is a set of PNG radiographs that are named to indicate subject and follow-up"
   ]
  },
  {
   "cell_type": "code",
   "execution_count": null,
   "metadata": {},
   "outputs": [],
   "source": [
    "sz = 128\n",
    "cxr8_original_path = data_all / 'chest-nihcc' / 'by_class' / 'no_finding'\n",
    "cxr8_png_filenames = list(cxr8_original_path.glob('*.png'))[:]\n",
    "cxr8_temp = temp_from_original(cxr8_original_path,\n",
    "                               PurePath(f\"{sz}x{sz}\") / 'clahe_processed')"
   ]
  },
  {
   "cell_type": "code",
   "execution_count": null,
   "metadata": {},
   "outputs": [
    {
     "name": "stdout",
     "output_type": "stream",
     "text": [
      "Skipping path E:\\Data\\zebtrastack_temp\\chest-nihcc\\clahe_processed\\00006682_003\r"
     ]
    }
   ],
   "source": [
    "preprocess_images(cxr8_png_filenames, read_png, \n",
    "                  lambda img:center_surround(img, sz=sz), cxr8_temp)"
   ]
  },
  {
   "cell_type": "markdown",
   "metadata": {},
   "source": [
    "## LIDC Processing\n",
    "LIDC is a collection of CT series, which we process using center-surround as well"
   ]
  },
  {
   "cell_type": "code",
   "execution_count": null,
   "metadata": {},
   "outputs": [],
   "source": [
    "lidc_original_path = data_all / 'TCIA-LIDC' / 'LIDC-IDRI'\n",
    "lidc_dcm_filenames = list(lidc_original_path.glob('**/*.dcm'))[:]\n",
    "lidc_temp = temp_from_original(lidc_original_path, \n",
    "                               PurePath(f\"{sz}x{sz}\") / 'clahe_processed')"
   ]
  },
  {
   "cell_type": "code",
   "execution_count": null,
   "metadata": {},
   "outputs": [],
   "source": [
    "preprocess_images(lidc_dcm_filenames, read_dcm, \n",
    "                  lambda img:center_surround(img, sz=sz), lidc_temp)"
   ]
  },
  {
   "cell_type": "code",
   "execution_count": null,
   "metadata": {},
   "outputs": [],
   "source": []
  }
 ],
 "metadata": {
  "kernelspec": {
   "display_name": "Python 3.6.8 64-bit",
   "language": "python",
   "name": "python36864bit0c83dea770f14d06900285e7e16051d3"
  },
  "language_info": {
   "codemirror_mode": {
    "name": "ipython",
    "version": 3
   },
   "file_extension": ".py",
   "mimetype": "text/x-python",
   "name": "python",
   "nbconvert_exporter": "python",
   "pygments_lexer": "ipython3",
   "version": "3.6.8"
  }
 },
 "nbformat": 4,
 "nbformat_minor": 2
}
