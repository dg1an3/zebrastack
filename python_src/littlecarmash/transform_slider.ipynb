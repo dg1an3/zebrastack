{
 "cells": [
  {
   "cell_type": "code",
   "execution_count": 1,
   "metadata": {},
   "outputs": [
    {
     "data": {
      "text/plain": [
       "['ProcessedImage for ..\\\\Data\\\\LittleCarDb1\\\\SF0781-001_1.jpg (0 in cache)',\n",
       " 'ProcessedImage for ..\\\\Data\\\\LittleCarDb1\\\\SF0781-002_1.jpg (0 in cache)',\n",
       " 'ProcessedImage for ..\\\\Data\\\\LittleCarDb1\\\\SF0781-003_1.jpg (0 in cache)',\n",
       " 'ProcessedImage for ..\\\\Data\\\\LittleCarDb1\\\\SF0781-004_1.jpg (0 in cache)',\n",
       " 'ProcessedImage for ..\\\\Data\\\\LittleCarDb1\\\\SF0781-005_1.jpg (0 in cache)']"
      ]
     },
     "execution_count": 1,
     "metadata": {},
     "output_type": "execute_result"
    }
   ],
   "source": [
    "from processed_image import ProcessedImage, read_from_dir, show_image_strip\n",
    "imgs = list(read_from_dir('..\\\\Data\\\\LittleCarDb1'))\n",
    "[str(img) for img in imgs[0:5]]"
   ]
  },
  {
   "cell_type": "code",
   "execution_count": 2,
   "metadata": {},
   "outputs": [
    {
     "name": "stderr",
     "output_type": "stream",
     "text": [
      "Using TensorFlow backend.\n"
     ]
    }
   ],
   "source": [
    "from keras.preprocessing.image import ImageDataGenerator\n",
    "datagen = ImageDataGenerator()\n",
    "def transform(params, img):\n",
    "    import numpy as np\n",
    "    img = np.reshape(img, (img.shape[0], img.shape[1], 1))\n",
    "    xformed = datagen.apply_transform(x=img,\n",
    "                                      transform_parameters=params)\n",
    "    xformed = np.reshape(xformed, (xformed.shape[0], xformed.shape[1]))\n",
    "    return xformed\n",
    "transform_parameters = {\n",
    "    'theta':40,\n",
    "    'tx':5.0,\n",
    "    'ty':5.0,\n",
    "    'zx':0.9,\n",
    "    'zy':0.9\n",
    "}"
   ]
  },
  {
   "cell_type": "code",
   "execution_count": 28,
   "metadata": {},
   "outputs": [],
   "source": [
    "import matplotlib.pyplot as plt\n",
    "sz=256\n",
    "def g(**kwargs):\n",
    "    import numpy as np\n",
    "    # plt.figure(figsize=(4,4))\n",
    "    fig, (ax1, ax2) = plt.subplots(1, 2, figsize=(4,4), sharey=True)\n",
    "    # latent = np.array([list(kwargs.values())])\n",
    "    # plt.imshow(latent.reshape(1,2))\n",
    "    img = imgs[0].get_processed_image(size=256)\n",
    "    transform_parameters['tx'] = kwargs['tx']\n",
    "    transform_parameters['ty'] = kwargs['ty']\n",
    "    transform_parameters['theta'] = kwargs['theta']\n",
    "    xformed = transform(transform_parameters, img)\n",
    "    ax1.imshow(xformed)\n",
    "    ax2.imshow(img)\n",
    "    plt.gray()\n",
    "    return kwargs['tx']"
   ]
  },
  {
   "cell_type": "code",
   "execution_count": 29,
   "metadata": {},
   "outputs": [
    {
     "data": {
      "application/vnd.jupyter.widget-view+json": {
       "model_id": "a62aa2f597254ba7a37178da5b9c7500",
       "version_major": 2,
       "version_minor": 0
      },
      "text/plain": [
       "HBox(children=(FloatSlider(value=0.0, layout=Layout(padding='0%'), max=30.0, min=-30.0, orientation='vertical'…"
      ]
     },
     "metadata": {},
     "output_type": "display_data"
    },
    {
     "data": {
      "application/vnd.jupyter.widget-view+json": {
       "model_id": "ebab6a5ce55643198791cdbcf9791962",
       "version_major": 2,
       "version_minor": 0
      },
      "text/plain": [
       "Output()"
      ]
     },
     "metadata": {},
     "output_type": "display_data"
    }
   ],
   "source": [
    "%matplotlib inline\n",
    "\n",
    "from ipywidgets import interactive_output,Layout\n",
    "import ipywidgets as widgets\n",
    "def createSlider():\n",
    "    return widgets.FloatSlider(value=0,\n",
    "                               min=-30, max=30, step=1.0,\n",
    "                               orientation='vertical',\n",
    "                               layout=Layout(padding='0%'))\n",
    "kwargs = {'tx':createSlider(), 'ty':createSlider(), 'theta':createSlider()}\n",
    "w = interactive_output(g,kwargs)\n",
    "hbox = widgets.HBox(list(kwargs.values()),\n",
    "                    layout=Layout(padding='0%'))\n",
    "display(hbox,w)"
   ]
  },
  {
   "cell_type": "code",
   "execution_count": null,
   "metadata": {},
   "outputs": [],
   "source": []
  }
 ],
 "metadata": {
  "kernelspec": {
   "display_name": "Python 3",
   "language": "python",
   "name": "python3"
  },
  "language_info": {
   "codemirror_mode": {
    "name": "ipython",
    "version": 3
   },
   "file_extension": ".py",
   "mimetype": "text/x-python",
   "name": "python",
   "nbconvert_exporter": "python",
   "pygments_lexer": "ipython3",
   "version": "3.6.8"
  }
 },
 "nbformat": 4,
 "nbformat_minor": 2
}
