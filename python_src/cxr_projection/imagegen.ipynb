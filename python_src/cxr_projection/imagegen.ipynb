{
 "cells": [
  {
   "cell_type": "code",
   "execution_count": null,
   "metadata": {},
   "outputs": [],
   "source": [
    "%load show_original_decoded.py"
   ]
  },
  {
   "cell_type": "code",
   "execution_count": 21,
   "metadata": {},
   "outputs": [],
   "source": [
    "# %load ImageOp.py\n",
    "class ImageOp:\n",
    "    def __init__(self):        \n",
    "        self.hits = 0\n",
    "        self.miss = 0\n",
    "\n",
    "    def get_cache_value(self, img):\n",
    "        import hashlib\n",
    "        hasher = hashlib.md5()\n",
    "        hasher.update(str(img.shape).encode('utf-8'))\n",
    "        hasher.update(img.data)\n",
    "        for_hash = hasher.hexdigest()    \n",
    "        if for_hash in cache:\n",
    "            self.hits = self.hits + 1\n",
    "            return for_hash, cache[for_hash]\n",
    "        self.miss = self.miss + 1\n",
    "        return for_hash, None\n",
    "    \n",
    "class HistoOp(ImageOp):    \n",
    "    def __call__(self, img):\n",
    "        print('HistoOp {}'.format(img))"
   ]
  },
  {
   "cell_type": "code",
   "execution_count": 19,
   "metadata": {},
   "outputs": [
    {
     "name": "stdout",
     "output_type": "stream",
     "text": [
      "HistoOp []\n"
     ]
    }
   ],
   "source": [
    "import numpy as np\n",
    "op = HistoOp()\n",
    "op(np.array([]))"
   ]
  },
  {
   "cell_type": "code",
   "execution_count": null,
   "metadata": {},
   "outputs": [],
   "source": [
    "cache = {}"
   ]
  },
  {
   "cell_type": "code",
   "execution_count": null,
   "metadata": {},
   "outputs": [],
   "source": [
    "hits, miss = 0, 0\n",
    "def get_cache_value(img):\n",
    "    global hits, miss\n",
    "    import hashlib\n",
    "    hasher = hashlib.md5()\n",
    "    hasher.update(str(img.shape).encode('utf-8'))\n",
    "    hasher.update(img.data)\n",
    "    for_hash = hasher.hexdigest()    \n",
    "    if for_hash in cache:\n",
    "        hits = hits + 1\n",
    "        return for_hash, cache[for_hash]\n",
    "    miss = miss + 1\n",
    "    return for_hash, None\n",
    "\n",
    "print(len(cache))"
   ]
  },
  {
   "cell_type": "code",
   "execution_count": null,
   "metadata": {},
   "outputs": [],
   "source": [
    "from keras_preprocessing.image import ImageDataGenerator\n",
    "from skimage import exposure, img_as_ubyte\n",
    "import numpy as np\n",
    "\n",
    "def whiten_img(img):\n",
    "    imin, imax = np.min(img), np.max(img)\n",
    "    img_ubyte = img_as_ubyte((img - imin)/(imax - imin))\n",
    "    return img_ubyte\n",
    "    \n",
    "def filter_shift_img(img, shift_model=None, use_clahe=False):\n",
    "    img_ubyte = whiten_img(img)\n",
    "\n",
    "    # save original shape to restore upon return\n",
    "    orig_shape = img.shape\n",
    "    img_ubyte = np.squeeze(img_ubyte)\n",
    "    \n",
    "    # check the cache\n",
    "    for_hash, final_img = get_cache_value(img_ubyte)\n",
    "    if not(final_img is None):\n",
    "        return final_img\n",
    "    \n",
    "    # apply clahe\n",
    "    if use_clahe:\n",
    "        filtered_img = \\\n",
    "            exposure.equalize_adapthist(img_ubyte,\n",
    "                kernel_size=(8,8), clip_limit=0.03)\n",
    "    else:\n",
    "        filtered_img = img\n",
    "        \n",
    "    # apply shift\n",
    "    if shifter_model != None:\n",
    "        latent = shifter_model.predict(clahed_img)        \n",
    "        print(latent)\n",
    "\n",
    "    final_img = np.reshape(filtered_img, orig_shape)\n",
    "    cache[for_hash] = final_img\n",
    "        \n",
    "    return final_img\n",
    "\n",
    "train_datagen = ImageDataGenerator(\n",
    "    horizontal_flip=False,\n",
    "    preprocessing_function=lambda img:filter_shift_img(img,use_clahe=True))"
   ]
  },
  {
   "cell_type": "code",
   "execution_count": null,
   "metadata": {
    "scrolled": true
   },
   "outputs": [],
   "source": [
    "sz = 128\n",
    "nihcc_x8 = r'G:/DataAll/chest-nihcc'\n",
    "train_generator = train_datagen.flow_from_directory(\n",
    "        '{}/by_class'.format(nihcc_x8),\n",
    "        color_mode='grayscale',\n",
    "        target_size=(sz, sz),\n",
    "        batch_size=128,\n",
    "        class_mode='input',\n",
    "        classes=['no_finding'])\n",
    "train10, match10 = next(train_generator)\n",
    "print(train10.shape, match10.shape)\n",
    "show_original_decoded(train10, match10, sz)"
   ]
  },
  {
   "cell_type": "code",
   "execution_count": null,
   "metadata": {},
   "outputs": [],
   "source": []
  }
 ],
 "metadata": {
  "kernelspec": {
   "display_name": "Python 3.6.8 64-bit",
   "language": "python",
   "name": "python36864bit0c83dea770f14d06900285e7e16051d3"
  },
  "language_info": {
   "codemirror_mode": {
    "name": "ipython",
    "version": 3
   },
   "file_extension": ".py",
   "mimetype": "text/x-python",
   "name": "python",
   "nbconvert_exporter": "python",
   "pygments_lexer": "ipython3",
   "version": "3.6.8"
  }
 },
 "nbformat": 4,
 "nbformat_minor": 2
}
