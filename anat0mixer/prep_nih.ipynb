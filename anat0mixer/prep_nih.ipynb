{
 "cells": [
  {
   "cell_type": "code",
   "execution_count": 1,
   "metadata": {},
   "outputs": [
    {
     "output_type": "error",
     "ename": "SyntaxError",
     "evalue": "invalid syntax (<ipython-input-1-b21434e3e881>, line 1)",
     "traceback": [
      "\u001b[1;36m  File \u001b[1;32m\"<ipython-input-1-b21434e3e881>\"\u001b[1;36m, line \u001b[1;32m1\u001b[0m\n\u001b[1;33m    $Env:NIHCC_X8 = \"G:\\DataAll\\chest-nihcc\"\u001b[0m\n\u001b[1;37m    ^\u001b[0m\n\u001b[1;31mSyntaxError\u001b[0m\u001b[1;31m:\u001b[0m invalid syntax\n"
     ]
    }
   ],
   "source": [
    "$Env:NIHCC_X8 = \"G:\\DataAll\\chest-nihcc\"\n",
    "\n",
    "$imagesFolder = gci \"$Env:NIHCC_X8\\images\\*.png\"\n",
    "Write-Output \"Total images: $($imagesFolder.Length)\"\n",
    "\n",
    "$imgRecs = Import-Csv \"$Env:NIHCC_X8\\Data_Entry_2017_v2020.csv\"\n",
    "Write-Output \"Images in csv: $($imgRecs.Length)\"\n",
    "\n",
    "$noFindings = $imgRecs|?{$_.'Finding Labels' -eq 'No Finding'}\n",
    "Write-Output \"Images labeled 'No Finding': $($noFindings.Length)\"\n",
    "\n",
    "$noFindingsNotCopied = $noFindings|?{!(Test-Path \"$Env:NIHCC_X8\\images\\$($_.'Image Index')\")}\n",
    "Write-Output \"Images labeled 'No Finding' not copied to by_class: $($noFindingsNotCopied.Length)\""
   ]
  },
  {
   "cell_type": "code",
   "execution_count": null,
   "metadata": {},
   "outputs": [],
   "source": [
    "$noFindings|%{copy \"$Env:NIHCC_X8\\images\\$($_.'Image Index')\" \n",
    "                    \"$Env:NIHCC_X8\\by_class\\no_finding\"}"
   ]
  }
 ],
 "metadata": {
  "kernelspec": {
   "display_name": "Python 3.6.8 64-bit",
   "language": "PowerShell",
   "name": "python36864bit0c83dea770f14d06900285e7e16051d3"
  },
  "language_info": {
   "file_extension": ".ps1",
   "mimetype": "text/x-powershell",
   "name": "PowerShell",
   "pygments_lexer": "powershell",
   "version": "3.6.8-final"
  }
 },
 "nbformat": 4,
 "nbformat_minor": 2
}