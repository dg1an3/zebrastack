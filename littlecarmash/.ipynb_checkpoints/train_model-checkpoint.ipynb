{
 "cells": [
  {
   "cell_type": "code",
   "execution_count": null,
   "metadata": {},
   "outputs": [],
   "source": [
    "from processed_image import ProcessedImage, read_from_dir, show_image_strip\n",
    "imgs = list(read_from_dir('..\\\\Data\\\\LittleCarDb1'))\n",
    "[str(img) for img in imgs[0:5]]"
   ]
  },
  {
   "cell_type": "code",
   "execution_count": null,
   "metadata": {},
   "outputs": [],
   "source": [
    "%matplotlib inline\n",
    "import matplotlib.pyplot as plt\n",
    "_, axes = plt.subplots(1, 10, sharey=True, figsize=(8,1.5))\n",
    "show_image_strip(imgs, axes)"
   ]
  },
  {
   "cell_type": "code",
   "execution_count": null,
   "metadata": {},
   "outputs": [],
   "source": [
    "_, axes = plt.subplots(2, 10, sharey=True, figsize=(8,1.5))\n",
    "processed_dict = {img.fullpath:img.get_processed_image() for img in imgs}\n",
    "show_image_strip(imgs, axes, predicted_dict=processed_dict)"
   ]
  },
  {
   "cell_type": "code",
   "execution_count": null,
   "metadata": {},
   "outputs": [],
   "source": [
    "import numpy as np\n",
    "x_train = [img.get_processed_image() for img in imgs]\n",
    "x_train = np.array(x_train)\n",
    "x_train = np.reshape(x_train, (x_train.shape[0], x_train.shape[1], x_train.shape[2], 1))"
   ]
  },
  {
   "cell_type": "code",
   "execution_count": null,
   "metadata": {},
   "outputs": [],
   "source": [
    "from keras.losses import mse, binary_crossentropy\n",
    "from keras import backend as K\n",
    "\n",
    "from model_vae_3stage import build_encoded_layer, build_latent_encoder, build_decoder, build_autoencoder\n",
    "\n",
    "def build_my_autoencoder(sz, optimizer, loss, latent_dim=8):\n",
    "    encoded_layer, input_img = build_encoded_layer(sz, in_channels=1)  \n",
    "    \n",
    "    encoded_shape = K.int_shape(encoded_layer)\n",
    "    encoder, z_mean, z_log_var = build_latent_encoder(encoded_layer, input_img, latent_dim=latent_dim)\n",
    "    \n",
    "    decoder = build_decoder(sz, encoded_shape, in_channels=1, latent_dim=latent_dim)\n",
    "    autoencoder = build_autoencoder(encoder, decoder, input_img,\n",
    "                                    optimizer=optimizer, loss=loss, dump=True)\n",
    "    return autoencoder, encoder, decoder"
   ]
  },
  {
   "cell_type": "code",
   "execution_count": null,
   "metadata": {},
   "outputs": [],
   "source": [
    "optimizer = 'adadelta'\n",
    "loss = ['mean_squared_error', 'categorical_crossentropy', 'binary_crossentropy']\n",
    "vae, enc, dec = build_my_autoencoder(64, optimizer=optimizer, loss=loss[0], latent_dim=8)"
   ]
  },
  {
   "cell_type": "code",
   "execution_count": null,
   "metadata": {},
   "outputs": [],
   "source": [
    "from model_vae_3stage import ModelVae3Stage\n",
    "all_model = ModelVae3Stage(size=64, in_channels=11, latent_dim=8)\n",
    "vae, enc, dec = all_model.vae, all_model.encoder, all_model.decoder"
   ]
  },
  {
   "cell_type": "code",
   "execution_count": null,
   "metadata": {},
   "outputs": [],
   "source": [
    "import random\n",
    "x_test = np.array(random.sample(list(x_train), int(len(x_train)/10)))\n",
    "x_train.shape, x_test.shape"
   ]
  },
  {
   "cell_type": "code",
   "execution_count": null,
   "metadata": {},
   "outputs": [],
   "source": [
    "vae.fit(x_train, x_train, epochs=1000, batch_size=1024, \n",
    "        shuffle=True, validation_data=(x_test,x_test))"
   ]
  },
  {
   "cell_type": "code",
   "execution_count": null,
   "metadata": {
    "scrolled": true
   },
   "outputs": [],
   "source": [
    "encoded_latent = enc.predict(x_test)[2]   # z parameter is #2\n",
    "decoded_imgs = dec.predict(encoded_latent)\n",
    "print(x_test.shape, '->', encoded_latent.shape, '->', decoded_imgs.shape)\n",
    "\n",
    "def show_original_decoded(original, decoded, sz):\n",
    "    n = 10  # how many digits we will display\n",
    "    plt.figure(figsize=(n*2, 4))\n",
    "    for i in range(n):\n",
    "        ax = plt.subplot(2, n, i+1)\n",
    "        plt.imshow(original[i].reshape(64, 64), cmap='gray')\n",
    "        ax = plt.subplot(2, n, i+1+n)\n",
    "        plt.imshow(decoded[i].reshape(64, 64), cmap='gray')\n",
    "    plt.show()\n",
    "show_original_decoded(x_test, decoded_imgs, 128)"
   ]
  },
  {
   "cell_type": "code",
   "execution_count": null,
   "metadata": {},
   "outputs": [],
   "source": []
  }
 ],
 "metadata": {
  "kernelspec": {
   "display_name": "Python 3",
   "language": "python",
   "name": "python3"
  },
  "language_info": {
   "codemirror_mode": {
    "name": "ipython",
    "version": 3
   },
   "file_extension": ".py",
   "mimetype": "text/x-python",
   "name": "python",
   "nbconvert_exporter": "python",
   "pygments_lexer": "ipython3",
   "version": "3.6.8"
  }
 },
 "nbformat": 4,
 "nbformat_minor": 2
}
