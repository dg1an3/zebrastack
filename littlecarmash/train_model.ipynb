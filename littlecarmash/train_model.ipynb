{
 "cells": [
  {
   "cell_type": "code",
   "execution_count": 1,
   "metadata": {},
   "outputs": [
    {
     "data": {
      "text/plain": [
       "['ProcessedImage for ..\\\\Data\\\\LittleCarDb1\\\\SF0836-001_1.jpg (0 in cache)',\n",
       " 'ProcessedImage for ..\\\\Data\\\\LittleCarDb1\\\\SF0836-002_1.jpg (0 in cache)',\n",
       " 'ProcessedImage for ..\\\\Data\\\\LittleCarDb1\\\\SF0836-005_1.jpg (0 in cache)',\n",
       " 'ProcessedImage for ..\\\\Data\\\\LittleCarDb1\\\\SF0836-007_1.jpg (0 in cache)',\n",
       " 'ProcessedImage for ..\\\\Data\\\\LittleCarDb1\\\\SF0836-008_1.jpg (0 in cache)']"
      ]
     },
     "execution_count": 1,
     "metadata": {},
     "output_type": "execute_result"
    }
   ],
   "source": [
    "from processed_image import ProcessedImage, read_from_dir, show_image_strip\n",
    "imgs = list(read_from_dir('..\\\\Data\\\\LittleCarDb1'))\n",
    "[str(img) for img in imgs[0:5]]"
   ]
  },
  {
   "cell_type": "code",
   "execution_count": 2,
   "metadata": {},
   "outputs": [
    {
     "data": {
      "image/png": "[encoded data removed]",
      "text/plain": [
       "<Figure size 576x108 with 10 Axes>"
      ]
     },
     "metadata": {
      "needs_background": "light"
     },
     "output_type": "display_data"
    }
   ],
   "source": [
    "%matplotlib inline\n",
    "import matplotlib.pyplot as plt\n",
    "_, axes = plt.subplots(1, 10, sharey=True, figsize=(8,1.5))\n",
    "show_image_strip(imgs, axes)"
   ]
  },
  {
   "cell_type": "code",
   "execution_count": null,
   "metadata": {},
   "outputs": [],
   "source": [
    "_, axes = plt.subplots(2, 10, sharey=True, figsize=(8,1.5))\n",
    "processed_dict = {img.fullpath:img.get_processed_image() for img in imgs}\n",
    "show_image_strip(imgs, axes, predicted_dict=processed_dict)"
   ]
  },
  {
   "cell_type": "code",
   "execution_count": null,
   "metadata": {},
   "outputs": [],
   "source": [
    "import numpy as np\n",
    "x_train = [img.get_processed_image() for img in imgs]\n",
    "x_train = np.array(x_train)\n",
    "x_train = np.reshape(x_train, (x_train.shape[0], x_train.shape[1], x_train.shape[2], 1))"
   ]
  },
  {
   "cell_type": "code",
   "execution_count": null,
   "metadata": {},
   "outputs": [],
   "source": [
    "from keras.losses import mse, binary_crossentropy\n",
    "from keras import backend as K\n",
    "\n",
    "from model_vae_3stage import build_encoded_layer, build_latent_encoder, build_decoder, build_autoencoder\n",
    "\n",
    "def build_my_autoencoder(sz, optimizer, loss, latent_dim=8):\n",
    "    encoded_layer, input_img = build_encoded_layer(sz, in_channels=1)  \n",
    "    \n",
    "    encoded_shape = K.int_shape(encoded_layer)\n",
    "    encoder, z_mean, z_log_var = build_latent_encoder(encoded_layer, input_img, latent_dim=latent_dim)\n",
    "    \n",
    "    decoder = build_decoder(sz, encoded_shape, in_channels=1, latent_dim=latent_dim)\n",
    "    autoencoder = build_autoencoder(encoder, decoder, input_img,\n",
    "                                    optimizer=optimizer, loss=loss, dump=True)\n",
    "    return autoencoder, encoder, decoder"
   ]
  },
  {
   "cell_type": "code",
   "execution_count": null,
   "metadata": {},
   "outputs": [],
   "source": [
    "optimizer = 'adadelta'\n",
    "loss = ['mean_squared_error', 'categorical_crossentropy', 'binary_crossentropy']\n",
    "vae, enc, dec = build_my_autoencoder(64, optimizer=optimizer, loss=loss[0], latent_dim=8)"
   ]
  },
  {
   "cell_type": "code",
   "execution_count": 4,
   "metadata": {},
   "outputs": [
    {
     "name": "stderr",
     "output_type": "stream",
     "text": [
      "Using TensorFlow backend.\n"
     ]
    },
    {
     "name": "stdout",
     "output_type": "stream",
     "text": [
      "WARNING:tensorflow:From c:\\users\\dglan\\appdata\\local\\programs\\python\\python36\\lib\\site-packages\\tensorflow\\python\\framework\\op_def_library.py:263: colocate_with (from tensorflow.python.framework.ops) is deprecated and will be removed in a future version.\n",
      "Instructions for updating:\n",
      "Colocations handled automatically by placer.\n"
     ]
    },
    {
     "ename": "TypeError",
     "evalue": "build_autoencoder() missing 1 required positional argument: 'input_img'",
     "output_type": "error",
     "traceback": [
      "\u001b[1;31m---------------------------------------------------------------------------\u001b[0m",
      "\u001b[1;31mTypeError\u001b[0m                                 Traceback (most recent call last)",
      "\u001b[1;32m<ipython-input-4-6d4815723e31>\u001b[0m in \u001b[0;36m<module>\u001b[1;34m\u001b[0m\n\u001b[0;32m      1\u001b[0m \u001b[1;32mfrom\u001b[0m \u001b[0mmodel_vae_3stage\u001b[0m \u001b[1;32mimport\u001b[0m \u001b[0mModelVae3Stage\u001b[0m\u001b[1;33m\u001b[0m\u001b[1;33m\u001b[0m\u001b[0m\n\u001b[1;32m----> 2\u001b[1;33m \u001b[0mall_model\u001b[0m \u001b[1;33m=\u001b[0m \u001b[0mModelVae3Stage\u001b[0m\u001b[1;33m(\u001b[0m\u001b[0msize\u001b[0m\u001b[1;33m=\u001b[0m\u001b[1;36m64\u001b[0m\u001b[1;33m,\u001b[0m \u001b[0min_channels\u001b[0m\u001b[1;33m=\u001b[0m\u001b[1;36m1\u001b[0m\u001b[1;33m,\u001b[0m \u001b[0mlatent_dim\u001b[0m\u001b[1;33m=\u001b[0m\u001b[1;36m8\u001b[0m\u001b[1;33m)\u001b[0m\u001b[1;33m\u001b[0m\u001b[1;33m\u001b[0m\u001b[0m\n\u001b[0m\u001b[0;32m      3\u001b[0m \u001b[0mvae\u001b[0m\u001b[1;33m,\u001b[0m \u001b[0menc\u001b[0m\u001b[1;33m,\u001b[0m \u001b[0mdec\u001b[0m \u001b[1;33m=\u001b[0m \u001b[0mall_model\u001b[0m\u001b[1;33m.\u001b[0m\u001b[0mvae\u001b[0m\u001b[1;33m,\u001b[0m \u001b[0mall_model\u001b[0m\u001b[1;33m.\u001b[0m\u001b[0mencoder\u001b[0m\u001b[1;33m,\u001b[0m \u001b[0mall_model\u001b[0m\u001b[1;33m.\u001b[0m\u001b[0mdecoder\u001b[0m\u001b[1;33m\u001b[0m\u001b[1;33m\u001b[0m\u001b[0m\n",
      "\u001b[1;32mE:\\dev\\littlecarmash\\littlecarmash\\model_vae_3stage.py\u001b[0m in \u001b[0;36m__init__\u001b[1;34m(self, size, in_channels, latent_dim, use_kldiv)\u001b[0m\n\u001b[0;32m    144\u001b[0m         \u001b[0mself\u001b[0m\u001b[1;33m.\u001b[0m\u001b[0mvae\u001b[0m \u001b[1;33m=\u001b[0m\u001b[0;31m \u001b[0m\u001b[0;31m\\\u001b[0m\u001b[1;33m\u001b[0m\u001b[1;33m\u001b[0m\u001b[0m\n\u001b[0;32m    145\u001b[0m             build_autoencoder(self.encoder, self.decoder, \n\u001b[1;32m--> 146\u001b[1;33m                               optimizer='adadelta', loss=loss)\n\u001b[0m\u001b[0;32m    147\u001b[0m \u001b[1;33m\u001b[0m\u001b[0m\n\u001b[0;32m    148\u001b[0m     \u001b[1;32mdef\u001b[0m \u001b[0m__str__\u001b[0m\u001b[1;33m(\u001b[0m\u001b[0mself\u001b[0m\u001b[1;33m)\u001b[0m\u001b[1;33m:\u001b[0m\u001b[1;33m\u001b[0m\u001b[1;33m\u001b[0m\u001b[0m\n",
      "\u001b[1;31mTypeError\u001b[0m: build_autoencoder() missing 1 required positional argument: 'input_img'"
     ]
    }
   ],
   "source": [
    "from model_vae_3stage import ModelVae3Stage\n",
    "all_model = ModelVae3Stage(size=64, in_channels=1, latent_dim=8)\n",
    "vae, enc, dec = all_model.vae, all_model.encoder, all_model.decoder"
   ]
  },
  {
   "cell_type": "code",
   "execution_count": null,
   "metadata": {},
   "outputs": [],
   "source": [
    "import random\n",
    "x_test = np.array(random.sample(list(x_train), int(len(x_train)/10)))\n",
    "x_train.shape, x_test.shape"
   ]
  },
  {
   "cell_type": "code",
   "execution_count": null,
   "metadata": {},
   "outputs": [],
   "source": [
    "vae.fit(x_train, x_train, epochs=1000, batch_size=1024, \n",
    "        shuffle=True, validation_data=(x_test,x_test))"
   ]
  },
  {
   "cell_type": "code",
   "execution_count": null,
   "metadata": {
    "scrolled": true
   },
   "outputs": [],
   "source": [
    "encoded_latent = enc.predict(x_test)[2]   # z parameter is #2\n",
    "decoded_imgs = dec.predict(encoded_latent)\n",
    "print(x_test.shape, '->', encoded_latent.shape, '->', decoded_imgs.shape)\n",
    "\n",
    "def show_original_decoded(original, decoded, sz):\n",
    "    n = 10  # how many digits we will display\n",
    "    plt.figure(figsize=(n*2, 4))\n",
    "    for i in range(n):\n",
    "        ax = plt.subplot(2, n, i+1)\n",
    "        plt.imshow(original[i].reshape(64, 64), cmap='gray')\n",
    "        ax = plt.subplot(2, n, i+1+n)\n",
    "        plt.imshow(decoded[i].reshape(64, 64), cmap='gray')\n",
    "    plt.show()\n",
    "show_original_decoded(x_test, decoded_imgs, 128)"
   ]
  },
  {
   "cell_type": "code",
   "execution_count": null,
   "metadata": {},
   "outputs": [],
   "source": []
  }
 ],
 "metadata": {
  "kernelspec": {
   "display_name": "Python 3",
   "language": "python",
   "name": "python3"
  },
  "language_info": {
   "codemirror_mode": {
    "name": "ipython",
    "version": 3
   },
   "file_extension": ".py",
   "mimetype": "text/x-python",
   "name": "python",
   "nbconvert_exporter": "python",
   "pygments_lexer": "ipython3",
   "version": "3.6.8"
  }
 },
 "nbformat": 4,
 "nbformat_minor": 2
}
